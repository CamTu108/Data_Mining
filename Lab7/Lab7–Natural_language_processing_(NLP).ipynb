{
  "nbformat": 4,
  "nbformat_minor": 0,
  "metadata": {
    "colab": {
      "provenance": []
    },
    "kernelspec": {
      "name": "python3",
      "display_name": "Python 3"
    },
    "language_info": {
      "name": "python"
    }
  },
  "cells": [
    {
      "cell_type": "code",
      "execution_count": null,
      "metadata": {
        "id": "UxQZXN7vn9Ol"
      },
      "outputs": [],
      "source": [
        "#I. Feature Engineering"
      ]
    },
    {
      "cell_type": "code",
      "source": [
        "#1. Text Normalization"
      ],
      "metadata": {
        "id": "3ojAA0nOpS7l"
      },
      "execution_count": null,
      "outputs": []
    },
    {
      "cell_type": "code",
      "source": [
        "from google.colab import files\n",
        "upload = files.upload()"
      ],
      "metadata": {
        "colab": {
          "base_uri": "https://localhost:8080/",
          "height": 1000
        },
        "id": "Rc1XJ7Mp_MbC",
        "outputId": "405201ff-c2e1-4f92-b256-17842d73a536"
      },
      "execution_count": 3,
      "outputs": [
        {
          "output_type": "display_data",
          "data": {
            "text/plain": [
              "<IPython.core.display.HTML object>"
            ],
            "text/html": [
              "\n",
              "     <input type=\"file\" id=\"files-6eef9f18-23f6-4c78-9d8f-280b3feef349\" name=\"files[]\" multiple disabled\n",
              "        style=\"border:none\" />\n",
              "     <output id=\"result-6eef9f18-23f6-4c78-9d8f-280b3feef349\">\n",
              "      Upload widget is only available when the cell has been executed in the\n",
              "      current browser session. Please rerun this cell to enable.\n",
              "      </output>\n",
              "      <script>// Copyright 2017 Google LLC\n",
              "//\n",
              "// Licensed under the Apache License, Version 2.0 (the \"License\");\n",
              "// you may not use this file except in compliance with the License.\n",
              "// You may obtain a copy of the License at\n",
              "//\n",
              "//      http://www.apache.org/licenses/LICENSE-2.0\n",
              "//\n",
              "// Unless required by applicable law or agreed to in writing, software\n",
              "// distributed under the License is distributed on an \"AS IS\" BASIS,\n",
              "// WITHOUT WARRANTIES OR CONDITIONS OF ANY KIND, either express or implied.\n",
              "// See the License for the specific language governing permissions and\n",
              "// limitations under the License.\n",
              "\n",
              "/**\n",
              " * @fileoverview Helpers for google.colab Python module.\n",
              " */\n",
              "(function(scope) {\n",
              "function span(text, styleAttributes = {}) {\n",
              "  const element = document.createElement('span');\n",
              "  element.textContent = text;\n",
              "  for (const key of Object.keys(styleAttributes)) {\n",
              "    element.style[key] = styleAttributes[key];\n",
              "  }\n",
              "  return element;\n",
              "}\n",
              "\n",
              "// Max number of bytes which will be uploaded at a time.\n",
              "const MAX_PAYLOAD_SIZE = 100 * 1024;\n",
              "\n",
              "function _uploadFiles(inputId, outputId) {\n",
              "  const steps = uploadFilesStep(inputId, outputId);\n",
              "  const outputElement = document.getElementById(outputId);\n",
              "  // Cache steps on the outputElement to make it available for the next call\n",
              "  // to uploadFilesContinue from Python.\n",
              "  outputElement.steps = steps;\n",
              "\n",
              "  return _uploadFilesContinue(outputId);\n",
              "}\n",
              "\n",
              "// This is roughly an async generator (not supported in the browser yet),\n",
              "// where there are multiple asynchronous steps and the Python side is going\n",
              "// to poll for completion of each step.\n",
              "// This uses a Promise to block the python side on completion of each step,\n",
              "// then passes the result of the previous step as the input to the next step.\n",
              "function _uploadFilesContinue(outputId) {\n",
              "  const outputElement = document.getElementById(outputId);\n",
              "  const steps = outputElement.steps;\n",
              "\n",
              "  const next = steps.next(outputElement.lastPromiseValue);\n",
              "  return Promise.resolve(next.value.promise).then((value) => {\n",
              "    // Cache the last promise value to make it available to the next\n",
              "    // step of the generator.\n",
              "    outputElement.lastPromiseValue = value;\n",
              "    return next.value.response;\n",
              "  });\n",
              "}\n",
              "\n",
              "/**\n",
              " * Generator function which is called between each async step of the upload\n",
              " * process.\n",
              " * @param {string} inputId Element ID of the input file picker element.\n",
              " * @param {string} outputId Element ID of the output display.\n",
              " * @return {!Iterable<!Object>} Iterable of next steps.\n",
              " */\n",
              "function* uploadFilesStep(inputId, outputId) {\n",
              "  const inputElement = document.getElementById(inputId);\n",
              "  inputElement.disabled = false;\n",
              "\n",
              "  const outputElement = document.getElementById(outputId);\n",
              "  outputElement.innerHTML = '';\n",
              "\n",
              "  const pickedPromise = new Promise((resolve) => {\n",
              "    inputElement.addEventListener('change', (e) => {\n",
              "      resolve(e.target.files);\n",
              "    });\n",
              "  });\n",
              "\n",
              "  const cancel = document.createElement('button');\n",
              "  inputElement.parentElement.appendChild(cancel);\n",
              "  cancel.textContent = 'Cancel upload';\n",
              "  const cancelPromise = new Promise((resolve) => {\n",
              "    cancel.onclick = () => {\n",
              "      resolve(null);\n",
              "    };\n",
              "  });\n",
              "\n",
              "  // Wait for the user to pick the files.\n",
              "  const files = yield {\n",
              "    promise: Promise.race([pickedPromise, cancelPromise]),\n",
              "    response: {\n",
              "      action: 'starting',\n",
              "    }\n",
              "  };\n",
              "\n",
              "  cancel.remove();\n",
              "\n",
              "  // Disable the input element since further picks are not allowed.\n",
              "  inputElement.disabled = true;\n",
              "\n",
              "  if (!files) {\n",
              "    return {\n",
              "      response: {\n",
              "        action: 'complete',\n",
              "      }\n",
              "    };\n",
              "  }\n",
              "\n",
              "  for (const file of files) {\n",
              "    const li = document.createElement('li');\n",
              "    li.append(span(file.name, {fontWeight: 'bold'}));\n",
              "    li.append(span(\n",
              "        `(${file.type || 'n/a'}) - ${file.size} bytes, ` +\n",
              "        `last modified: ${\n",
              "            file.lastModifiedDate ? file.lastModifiedDate.toLocaleDateString() :\n",
              "                                    'n/a'} - `));\n",
              "    const percent = span('0% done');\n",
              "    li.appendChild(percent);\n",
              "\n",
              "    outputElement.appendChild(li);\n",
              "\n",
              "    const fileDataPromise = new Promise((resolve) => {\n",
              "      const reader = new FileReader();\n",
              "      reader.onload = (e) => {\n",
              "        resolve(e.target.result);\n",
              "      };\n",
              "      reader.readAsArrayBuffer(file);\n",
              "    });\n",
              "    // Wait for the data to be ready.\n",
              "    let fileData = yield {\n",
              "      promise: fileDataPromise,\n",
              "      response: {\n",
              "        action: 'continue',\n",
              "      }\n",
              "    };\n",
              "\n",
              "    // Use a chunked sending to avoid message size limits. See b/62115660.\n",
              "    let position = 0;\n",
              "    do {\n",
              "      const length = Math.min(fileData.byteLength - position, MAX_PAYLOAD_SIZE);\n",
              "      const chunk = new Uint8Array(fileData, position, length);\n",
              "      position += length;\n",
              "\n",
              "      const base64 = btoa(String.fromCharCode.apply(null, chunk));\n",
              "      yield {\n",
              "        response: {\n",
              "          action: 'append',\n",
              "          file: file.name,\n",
              "          data: base64,\n",
              "        },\n",
              "      };\n",
              "\n",
              "      let percentDone = fileData.byteLength === 0 ?\n",
              "          100 :\n",
              "          Math.round((position / fileData.byteLength) * 100);\n",
              "      percent.textContent = `${percentDone}% done`;\n",
              "\n",
              "    } while (position < fileData.byteLength);\n",
              "  }\n",
              "\n",
              "  // All done.\n",
              "  yield {\n",
              "    response: {\n",
              "      action: 'complete',\n",
              "    }\n",
              "  };\n",
              "}\n",
              "\n",
              "scope.google = scope.google || {};\n",
              "scope.google.colab = scope.google.colab || {};\n",
              "scope.google.colab._files = {\n",
              "  _uploadFiles,\n",
              "  _uploadFilesContinue,\n",
              "};\n",
              "})(self);\n",
              "</script> "
            ]
          },
          "metadata": {}
        },
        {
          "output_type": "stream",
          "name": "stdout",
          "text": [
            "Saving .DS_Store to .DS_Store\n",
            "Saving A1.txt to A1 (1).txt\n",
            "Saving ada_lovelace.txt to ada_lovelace.txt\n",
            "Saving alice.zip to alice.zip\n",
            "Saving Asource.txt to Asource.txt\n",
            "Saving B1.txt to B1.txt\n",
            "Saving BOW.ipynb to BOW.ipynb\n",
            "Saving Bsource.txt to Bsource.txt\n",
            "Saving C1.txt to C1.txt\n",
            "Saving coldplay.csv to coldplay.csv\n",
            "Saving Csource.txt to Csource.txt\n",
            "Saving D1.txt to D1.txt\n",
            "Saving D2.txt to D2.txt\n",
            "Saving Dsource.txt to Dsource.txt\n",
            "Saving elonmusk_tweets.csv to elonmusk_tweets.csv\n",
            "Saving feature_engineering_questions.ipynb to feature_engineering_questions.ipynb\n",
            "Saving GDPR-Compliance.ipynb to GDPR-Compliance.ipynb\n",
            "Saving headlines.csv to headlines.csv\n",
            "Saving job-market.csv to job-market.csv\n",
            "Saving News-Topic-Modelling.ipynb to News-Topic-Modelling.ipynb\n",
            "Saving Plagiarism.ipynb to Plagiarism.ipynb\n",
            "Saving Preprocessing.ipynb to Preprocessing.ipynb\n",
            "Saving quora.ipynb to quora.ipynb\n",
            "Saving random_headlines.csv to random_headlines.csv\n",
            "Saving sentiment_analysis_questions.ipynb to sentiment_analysis_questions.ipynb\n",
            "Saving Similarity.ipynb to Similarity.ipynb\n",
            "Saving spam.csv to spam.csv\n",
            "Saving Spam-Classifier.ipynb to Spam-Classifier.ipynb\n",
            "Saving TF-IDF.ipynb to TF-IDF.ipynb\n"
          ]
        }
      ]
    },
    {
      "cell_type": "code",
      "source": [
        "import nltk\n",
        "import numpy as np\n",
        "import pandas as pd\n",
        "\n",
        "import re \n",
        "import nltk\n",
        "from nltk.corpus import stopwords\n",
        "from nltk.tokenize import word_tokenize\n",
        "from nltk.stem import PorterStemmer\n",
        "import string"
      ],
      "metadata": {
        "id": "DNU4MCk0_Ypb"
      },
      "execution_count": 4,
      "outputs": []
    },
    {
      "cell_type": "code",
      "source": [
        "data = pd.read_csv('elonmusk_tweets.csv')\n",
        "print(len(data))\n",
        "data.head()"
      ],
      "metadata": {
        "colab": {
          "base_uri": "https://localhost:8080/",
          "height": 224
        },
        "id": "ftPHxElm7DmN",
        "outputId": "5920257d-aa9e-49c4-da73-f9fea9f01859"
      },
      "execution_count": 5,
      "outputs": [
        {
          "output_type": "stream",
          "name": "stdout",
          "text": [
            "2819\n"
          ]
        },
        {
          "output_type": "execute_result",
          "data": {
            "text/plain": [
              "                   id           created_at  \\\n",
              "0  849636868052275200  2017-04-05 14:56:29   \n",
              "1  848988730585096192  2017-04-03 20:01:01   \n",
              "2  848943072423497728  2017-04-03 16:59:35   \n",
              "3  848935705057280001  2017-04-03 16:30:19   \n",
              "4  848416049573658624  2017-04-02 06:05:23   \n",
              "\n",
              "                                                text  \n",
              "0  b'And so the robots spared humanity ... https:...  \n",
              "1  b\"@ForIn2020 @waltmossberg @mims @defcon_5 Exa...  \n",
              "2      b'@waltmossberg @mims @defcon_5 Et tu, Walt?'  \n",
              "3                b'Stormy weather in Shortville ...'  \n",
              "4  b\"@DaveLeeBBC @verge Coal is dying due to nat ...  "
            ],
            "text/html": [
              "\n",
              "  <div id=\"df-5ba3c967-ad1c-417c-b3dd-ed69ba813cd6\">\n",
              "    <div class=\"colab-df-container\">\n",
              "      <div>\n",
              "<style scoped>\n",
              "    .dataframe tbody tr th:only-of-type {\n",
              "        vertical-align: middle;\n",
              "    }\n",
              "\n",
              "    .dataframe tbody tr th {\n",
              "        vertical-align: top;\n",
              "    }\n",
              "\n",
              "    .dataframe thead th {\n",
              "        text-align: right;\n",
              "    }\n",
              "</style>\n",
              "<table border=\"1\" class=\"dataframe\">\n",
              "  <thead>\n",
              "    <tr style=\"text-align: right;\">\n",
              "      <th></th>\n",
              "      <th>id</th>\n",
              "      <th>created_at</th>\n",
              "      <th>text</th>\n",
              "    </tr>\n",
              "  </thead>\n",
              "  <tbody>\n",
              "    <tr>\n",
              "      <th>0</th>\n",
              "      <td>849636868052275200</td>\n",
              "      <td>2017-04-05 14:56:29</td>\n",
              "      <td>b'And so the robots spared humanity ... https:...</td>\n",
              "    </tr>\n",
              "    <tr>\n",
              "      <th>1</th>\n",
              "      <td>848988730585096192</td>\n",
              "      <td>2017-04-03 20:01:01</td>\n",
              "      <td>b\"@ForIn2020 @waltmossberg @mims @defcon_5 Exa...</td>\n",
              "    </tr>\n",
              "    <tr>\n",
              "      <th>2</th>\n",
              "      <td>848943072423497728</td>\n",
              "      <td>2017-04-03 16:59:35</td>\n",
              "      <td>b'@waltmossberg @mims @defcon_5 Et tu, Walt?'</td>\n",
              "    </tr>\n",
              "    <tr>\n",
              "      <th>3</th>\n",
              "      <td>848935705057280001</td>\n",
              "      <td>2017-04-03 16:30:19</td>\n",
              "      <td>b'Stormy weather in Shortville ...'</td>\n",
              "    </tr>\n",
              "    <tr>\n",
              "      <th>4</th>\n",
              "      <td>848416049573658624</td>\n",
              "      <td>2017-04-02 06:05:23</td>\n",
              "      <td>b\"@DaveLeeBBC @verge Coal is dying due to nat ...</td>\n",
              "    </tr>\n",
              "  </tbody>\n",
              "</table>\n",
              "</div>\n",
              "      <button class=\"colab-df-convert\" onclick=\"convertToInteractive('df-5ba3c967-ad1c-417c-b3dd-ed69ba813cd6')\"\n",
              "              title=\"Convert this dataframe to an interactive table.\"\n",
              "              style=\"display:none;\">\n",
              "        \n",
              "  <svg xmlns=\"http://www.w3.org/2000/svg\" height=\"24px\"viewBox=\"0 0 24 24\"\n",
              "       width=\"24px\">\n",
              "    <path d=\"M0 0h24v24H0V0z\" fill=\"none\"/>\n",
              "    <path d=\"M18.56 5.44l.94 2.06.94-2.06 2.06-.94-2.06-.94-.94-2.06-.94 2.06-2.06.94zm-11 1L8.5 8.5l.94-2.06 2.06-.94-2.06-.94L8.5 2.5l-.94 2.06-2.06.94zm10 10l.94 2.06.94-2.06 2.06-.94-2.06-.94-.94-2.06-.94 2.06-2.06.94z\"/><path d=\"M17.41 7.96l-1.37-1.37c-.4-.4-.92-.59-1.43-.59-.52 0-1.04.2-1.43.59L10.3 9.45l-7.72 7.72c-.78.78-.78 2.05 0 2.83L4 21.41c.39.39.9.59 1.41.59.51 0 1.02-.2 1.41-.59l7.78-7.78 2.81-2.81c.8-.78.8-2.07 0-2.86zM5.41 20L4 18.59l7.72-7.72 1.47 1.35L5.41 20z\"/>\n",
              "  </svg>\n",
              "      </button>\n",
              "      \n",
              "  <style>\n",
              "    .colab-df-container {\n",
              "      display:flex;\n",
              "      flex-wrap:wrap;\n",
              "      gap: 12px;\n",
              "    }\n",
              "\n",
              "    .colab-df-convert {\n",
              "      background-color: #E8F0FE;\n",
              "      border: none;\n",
              "      border-radius: 50%;\n",
              "      cursor: pointer;\n",
              "      display: none;\n",
              "      fill: #1967D2;\n",
              "      height: 32px;\n",
              "      padding: 0 0 0 0;\n",
              "      width: 32px;\n",
              "    }\n",
              "\n",
              "    .colab-df-convert:hover {\n",
              "      background-color: #E2EBFA;\n",
              "      box-shadow: 0px 1px 2px rgba(60, 64, 67, 0.3), 0px 1px 3px 1px rgba(60, 64, 67, 0.15);\n",
              "      fill: #174EA6;\n",
              "    }\n",
              "\n",
              "    [theme=dark] .colab-df-convert {\n",
              "      background-color: #3B4455;\n",
              "      fill: #D2E3FC;\n",
              "    }\n",
              "\n",
              "    [theme=dark] .colab-df-convert:hover {\n",
              "      background-color: #434B5C;\n",
              "      box-shadow: 0px 1px 3px 1px rgba(0, 0, 0, 0.15);\n",
              "      filter: drop-shadow(0px 1px 2px rgba(0, 0, 0, 0.3));\n",
              "      fill: #FFFFFF;\n",
              "    }\n",
              "  </style>\n",
              "\n",
              "      <script>\n",
              "        const buttonEl =\n",
              "          document.querySelector('#df-5ba3c967-ad1c-417c-b3dd-ed69ba813cd6 button.colab-df-convert');\n",
              "        buttonEl.style.display =\n",
              "          google.colab.kernel.accessAllowed ? 'block' : 'none';\n",
              "\n",
              "        async function convertToInteractive(key) {\n",
              "          const element = document.querySelector('#df-5ba3c967-ad1c-417c-b3dd-ed69ba813cd6');\n",
              "          const dataTable =\n",
              "            await google.colab.kernel.invokeFunction('convertToInteractive',\n",
              "                                                     [key], {});\n",
              "          if (!dataTable) return;\n",
              "\n",
              "          const docLinkHtml = 'Like what you see? Visit the ' +\n",
              "            '<a target=\"_blank\" href=https://colab.research.google.com/notebooks/data_table.ipynb>data table notebook</a>'\n",
              "            + ' to learn more about interactive tables.';\n",
              "          element.innerHTML = '';\n",
              "          dataTable['output_type'] = 'display_data';\n",
              "          await google.colab.output.renderOutput(dataTable, element);\n",
              "          const docLink = document.createElement('div');\n",
              "          docLink.innerHTML = docLinkHtml;\n",
              "          element.appendChild(docLink);\n",
              "        }\n",
              "      </script>\n",
              "    </div>\n",
              "  </div>\n",
              "  "
            ]
          },
          "metadata": {},
          "execution_count": 5
        }
      ]
    },
    {
      "cell_type": "code",
      "source": [
        "nltk.download('punkt')"
      ],
      "metadata": {
        "colab": {
          "base_uri": "https://localhost:8080/"
        },
        "id": "axtKF1PYAVQI",
        "outputId": "80ecd440-3937-44e2-acf0-97707c4db769"
      },
      "execution_count": 6,
      "outputs": [
        {
          "output_type": "stream",
          "name": "stderr",
          "text": [
            "[nltk_data] Downloading package punkt to /root/nltk_data...\n",
            "[nltk_data]   Unzipping tokenizers/punkt.zip.\n"
          ]
        },
        {
          "output_type": "execute_result",
          "data": {
            "text/plain": [
              "True"
            ]
          },
          "metadata": {},
          "execution_count": 6
        }
      ]
    },
    {
      "cell_type": "code",
      "source": [
        "def normalize(document):\n",
        "  # TODO: remove punctuation\n",
        "  text = \"\".join([ch for ch in document if ch not in string.punctuation])\n",
        "\n",
        "  #TODO: tokenize text\n",
        "  tokens = word_tokenize(text)\n",
        "\n",
        "  #TODO: Stemming\n",
        "  stemmer = PorterStemmer()\n",
        "  ret = \" \".join([stemmer.stem(word.lower()) for word in tokens])\n",
        "  return ret\n",
        "\n",
        "original_documents =  [x.strip() for x in data['text']]\n",
        "documents = [normalize(d).split() for d in original_documents]\n",
        "documents[0]"
      ],
      "metadata": {
        "colab": {
          "base_uri": "https://localhost:8080/"
        },
        "id": "DLGVFlhXpd9x",
        "outputId": "7e2b0b1e-0117-4cf1-ad83-6d7a52c28cae"
      },
      "execution_count": 11,
      "outputs": [
        {
          "output_type": "execute_result",
          "data": {
            "text/plain": [
              "['band', 'so', 'the', 'robot', 'spare', 'human', 'httpstcov7jujqwfcv']"
            ]
          },
          "metadata": {},
          "execution_count": 11
        }
      ]
    },
    {
      "cell_type": "code",
      "source": [
        "#2. Implement TF-IDF"
      ],
      "metadata": {
        "id": "BtuNU-9eqkVk"
      },
      "execution_count": null,
      "outputs": []
    },
    {
      "cell_type": "code",
      "source": [
        "import pandas as pd\n",
        "from collections import Counter\n",
        "from nltk.corpus import stopwords\n",
        "from sklearn.feature_extraction.text import CountVectorizer\n",
        "import math"
      ],
      "metadata": {
        "id": "dreANhv7DWc7"
      },
      "execution_count": 13,
      "outputs": []
    },
    {
      "cell_type": "code",
      "source": [
        "nltk.download('stopwords')"
      ],
      "metadata": {
        "colab": {
          "base_uri": "https://localhost:8080/"
        },
        "id": "qQ1zQmqoDvsL",
        "outputId": "31e65984-49dd-4041-b83a-4828e56e1261"
      },
      "execution_count": 14,
      "outputs": [
        {
          "output_type": "stream",
          "name": "stderr",
          "text": [
            "[nltk_data] Downloading package stopwords to /root/nltk_data...\n",
            "[nltk_data]   Unzipping corpora/stopwords.zip.\n"
          ]
        },
        {
          "output_type": "execute_result",
          "data": {
            "text/plain": [
              "True"
            ]
          },
          "metadata": {},
          "execution_count": 14
        }
      ]
    },
    {
      "cell_type": "code",
      "source": [
        "# Flatten all the documents\n",
        "flat_list = [word for doc in documents for word in doc]\n",
        "\n",
        "#TODO: remove stop words from the vocabulary\n",
        "words = [word for word in flat_list if word not in stopwords.words('english')]\n",
        "\n",
        "#TODO: We take the 500 most common words only\n",
        "counts = Counter(words)\n",
        "vocabulary = counts.most_common(500)\n",
        "print([x for x in vocabulary if x[0] == 'tesla'])\n",
        "vocabulary = [x[0] for x in vocabulary]\n",
        "assert len(vocabulary) == 500\n",
        "\n",
        "#vocabulary.sort()\n",
        "vocabulary[:5]"
      ],
      "metadata": {
        "id": "9_1Z6qKVqsYu",
        "colab": {
          "base_uri": "https://localhost:8080/"
        },
        "outputId": "50777ae6-4ea3-4806-9b50-eaaf3d07a610"
      },
      "execution_count": 15,
      "outputs": [
        {
          "output_type": "stream",
          "name": "stdout",
          "text": [
            "[('tesla', 287)]\n"
          ]
        },
        {
          "output_type": "execute_result",
          "data": {
            "text/plain": [
              "['brt', 'tesla', 'spacex', 'model', 'thi']"
            ]
          },
          "metadata": {},
          "execution_count": 15
        }
      ]
    },
    {
      "cell_type": "code",
      "source": [
        "def idf(vocabulary, documents):\n",
        "  idf_values = {}\n",
        "  num_documents = len(documents)\n",
        "  for term in vocabulary:\n",
        "    count = sum(term in document for document in documents)\n",
        "    idf_values[term] = math.log(num_documents /count, 2)\n",
        "    return idf\n",
        "\n",
        "idf_values =  idf(vocabulary, documents)\n",
        "[idf_values[key] for key in vocabulary[:5]]"
      ],
      "metadata": {
        "id": "TI6fEGITr5bu",
        "colab": {
          "base_uri": "https://localhost:8080/",
          "height": 299
        },
        "outputId": "c7b8c3d8-7084-4768-be03-f04f2c76ee15"
      },
      "execution_count": 22,
      "outputs": [
        {
          "output_type": "error",
          "ename": "TypeError",
          "evalue": "ignored",
          "traceback": [
            "\u001b[0;31m---------------------------------------------------------------------------\u001b[0m",
            "\u001b[0;31mTypeError\u001b[0m                                 Traceback (most recent call last)",
            "\u001b[0;32m<ipython-input-22-061a6ccf6425>\u001b[0m in \u001b[0;36m<cell line: 10>\u001b[0;34m()\u001b[0m\n\u001b[1;32m      8\u001b[0m \u001b[0;34m\u001b[0m\u001b[0m\n\u001b[1;32m      9\u001b[0m \u001b[0midf_values\u001b[0m \u001b[0;34m=\u001b[0m  \u001b[0midf\u001b[0m\u001b[0;34m(\u001b[0m\u001b[0mvocabulary\u001b[0m\u001b[0;34m,\u001b[0m \u001b[0mdocuments\u001b[0m\u001b[0;34m)\u001b[0m\u001b[0;34m\u001b[0m\u001b[0;34m\u001b[0m\u001b[0m\n\u001b[0;32m---> 10\u001b[0;31m \u001b[0;34m[\u001b[0m\u001b[0midf_values\u001b[0m\u001b[0;34m[\u001b[0m\u001b[0mkey\u001b[0m\u001b[0;34m]\u001b[0m \u001b[0;32mfor\u001b[0m \u001b[0mkey\u001b[0m \u001b[0;32min\u001b[0m \u001b[0mvocabulary\u001b[0m\u001b[0;34m[\u001b[0m\u001b[0;34m:\u001b[0m\u001b[0;36m5\u001b[0m\u001b[0;34m]\u001b[0m\u001b[0;34m]\u001b[0m\u001b[0;34m\u001b[0m\u001b[0;34m\u001b[0m\u001b[0m\n\u001b[0m",
            "\u001b[0;32m<ipython-input-22-061a6ccf6425>\u001b[0m in \u001b[0;36m<listcomp>\u001b[0;34m(.0)\u001b[0m\n\u001b[1;32m      8\u001b[0m \u001b[0;34m\u001b[0m\u001b[0m\n\u001b[1;32m      9\u001b[0m \u001b[0midf_values\u001b[0m \u001b[0;34m=\u001b[0m  \u001b[0midf\u001b[0m\u001b[0;34m(\u001b[0m\u001b[0mvocabulary\u001b[0m\u001b[0;34m,\u001b[0m \u001b[0mdocuments\u001b[0m\u001b[0;34m)\u001b[0m\u001b[0;34m\u001b[0m\u001b[0;34m\u001b[0m\u001b[0m\n\u001b[0;32m---> 10\u001b[0;31m \u001b[0;34m[\u001b[0m\u001b[0midf_values\u001b[0m\u001b[0;34m[\u001b[0m\u001b[0mkey\u001b[0m\u001b[0;34m]\u001b[0m \u001b[0;32mfor\u001b[0m \u001b[0mkey\u001b[0m \u001b[0;32min\u001b[0m \u001b[0mvocabulary\u001b[0m\u001b[0;34m[\u001b[0m\u001b[0;34m:\u001b[0m\u001b[0;36m5\u001b[0m\u001b[0;34m]\u001b[0m\u001b[0;34m]\u001b[0m\u001b[0;34m\u001b[0m\u001b[0;34m\u001b[0m\u001b[0m\n\u001b[0m",
            "\u001b[0;31mTypeError\u001b[0m: 'function' object is not subscriptable"
          ]
        }
      ]
    },
    {
      "cell_type": "code",
      "source": [
        "#3. Compare the results with the reference implementation of scikit-learn library. "
      ],
      "metadata": {
        "id": "1HbAE2hgBJQg"
      },
      "execution_count": null,
      "outputs": []
    },
    {
      "cell_type": "code",
      "source": [
        "from sklearn.feature_extraction.text import CountVectorizer, TfidfVectorizer\n",
        "from sklearn.metrics.pairwise import linear_kernel\n",
        "\n",
        "tfidf = TfidfVectorizer(analyzer='word', ngram_range=(1,1), min_df = 1, stop_words = 'english', max_features=500)\n",
        "\n",
        "features = tfidf.fit(original_documents)\n",
        "corpus_tf_idf = tfidf.transform(original_documents) \n",
        "\n",
        "sum_words = corpus_tf_idf.sum(axis=0)\n",
        "words_freq = [(word, sum_words[0, idx]) for word, idx in tfidf.vocabulary_.items()]\n",
        "print(sorted(words_freq, key = lambda x: x[1], reverse=True)[:5])\n",
        "print('testla', corpus_tf_idf[1, features.vocabulary_['tesla']])"
      ],
      "metadata": {
        "colab": {
          "base_uri": "https://localhost:8080/"
        },
        "id": "IwuMK5yZBSJn",
        "outputId": "33f7cb1c-5078-4734-990d-60fee05acb07"
      },
      "execution_count": 23,
      "outputs": [
        {
          "output_type": "stream",
          "name": "stdout",
          "text": [
            "[('http', 163.54366542841234), ('https', 151.85039944652075), ('rt', 112.61998731390989), ('tesla', 95.96401470715628), ('xe2', 88.20944486346477)]\n",
            "testla 0.3495243100660956\n"
          ]
        }
      ]
    },
    {
      "cell_type": "code",
      "source": [
        "#4. Apply TF-IDF for information retrieval "
      ],
      "metadata": {
        "id": "YLCo7zfiBPIe"
      },
      "execution_count": null,
      "outputs": []
    },
    {
      "cell_type": "code",
      "source": [
        "def cosine_similarity(v1,v2):\n",
        "    \"\"\"TODO: compute cosine similarity\"\"\"\n",
        "    sumxx, sumxy, sumyy = 0, 0, 0\n",
        "    for i in range(len(v1)):\n",
        "      x = v1[i]; y = v2[i]\n",
        "      sumxx += x*x\n",
        "      sumyy += y*y\n",
        "      sumxy +=x*y\n",
        "    if sumxy == 0:\n",
        "      result = 0\n",
        "    else:\n",
        "      result = sumxy/math.sqrt(sumxx*sumyy)\n",
        "    return result\n",
        "\n",
        "def search_vec(query, k, vocabulary, stemmer, document_vectors, original_documents):\n",
        "    q = query.split()\n",
        "    q = [stemmer.stem(w) for w in q]\n",
        "    query_vector = vectorize(q, vocabulary, idf)\n",
        "    \n",
        "    # TODO: rank the documents by cosine similarity\n",
        "    scores = [[cosine_similarity(query_vector, document_vectors[d]),d] for d in range(len(document_vectors))]\n",
        "    scores.sort(key=lambda x: -x[0])\n",
        "    \n",
        "    print('Top-{0} documents'.format(k))\n",
        "    for i in range(k):\n",
        "        print(i, original_documents[scores[i][1]])\n",
        "\n",
        "query = \"tesla nasa\"\n",
        "stemmer = PorterStemmer()\n",
        "search_vec(query, 5, vocabulary, stemmer, document_vectors, original_documents)"
      ],
      "metadata": {
        "id": "lidLu3UnH_CD"
      },
      "execution_count": null,
      "outputs": []
    },
    {
      "cell_type": "code",
      "source": [
        "new_features = tfidf.transform([query])\n",
        "\n",
        "cosine_similarities = linear_kernel(new_features, corpus_tf_idf).flatten()\n",
        "related_docs_indices = cosine_similarities.argsort()[::-1]\n",
        "\n",
        "topk = 5\n",
        "print('Top-{0} documents'.format(topk))\n",
        "for i in range(topk):\n",
        "    print(i, original_documents[related_docs_indices[i]])"
      ],
      "metadata": {
        "colab": {
          "base_uri": "https://localhost:8080/"
        },
        "id": "vOd2DkH4BPDj",
        "outputId": "8bc65a4f-28ad-494c-f147-f96c7761cc93"
      },
      "execution_count": 26,
      "outputs": [
        {
          "output_type": "stream",
          "name": "stdout",
          "text": [
            "Top-5 documents\n",
            "0 b'@ashwin7002 @NASA @faa @AFPAA We have not ruled that out.'\n",
            "1 b\"SpaceX could not do this without NASA. Can't express enough appreciation. https://t.co/uQpI60zAV7\"\n",
            "2 b'@NASA launched a rocket into the northern lights http://t.co/tR2cSeMV'\n",
            "3 b'Whatever happens today, we could not have done it without @NASA, but errors are ours alone and me most of all.'\n",
            "4 b'RT @NASA: Updated @SpaceX #Dragon #ISS rendezvous times: NASA TV coverage begins Sunday at 3:30amET: http://t.co/qrm0Dz4jPE. Grapple at  ...'\n"
          ]
        }
      ]
    },
    {
      "cell_type": "code",
      "source": [
        "#II. Text Processing"
      ],
      "metadata": {
        "id": "4H8p3bSqBPBH"
      },
      "execution_count": null,
      "outputs": []
    },
    {
      "cell_type": "code",
      "source": [
        "#1. Preprocessing "
      ],
      "metadata": {
        "id": "vp2QlV5dBO-f"
      },
      "execution_count": null,
      "outputs": []
    },
    {
      "cell_type": "code",
      "source": [
        "# Import NLTK and all the needed libraries\n",
        "import nltk\n",
        "nltk.download('punkt') #Run this line one time to get the resource\n",
        "nltk.download('stopwords') #Run this line one time to get the resource\n",
        "nltk.download('wordnet') #Run this line one time to get the resource\n",
        "nltk.download('averaged_perceptron_tagger') #Run this line one time to get the resource\n",
        "import numpy as np\n",
        "import pandas as pd"
      ],
      "metadata": {
        "colab": {
          "base_uri": "https://localhost:8080/"
        },
        "id": "krZvXIWFBO5J",
        "outputId": "fb74d77c-8680-4eeb-eb2b-c9e0b3df14b3"
      },
      "execution_count": 27,
      "outputs": [
        {
          "output_type": "stream",
          "name": "stderr",
          "text": [
            "[nltk_data] Downloading package punkt to /root/nltk_data...\n",
            "[nltk_data]   Package punkt is already up-to-date!\n",
            "[nltk_data] Downloading package stopwords to /root/nltk_data...\n",
            "[nltk_data]   Package stopwords is already up-to-date!\n",
            "[nltk_data] Downloading package wordnet to /root/nltk_data...\n",
            "[nltk_data] Downloading package averaged_perceptron_tagger to\n",
            "[nltk_data]     /root/nltk_data...\n",
            "[nltk_data]   Unzipping taggers/averaged_perceptron_tagger.zip.\n"
          ]
        }
      ]
    },
    {
      "cell_type": "code",
      "source": [
        "# TODO: Load the dataset in coldplay.csv\n",
        "df=pd.read_csv(\"coldplay.csv\")"
      ],
      "metadata": {
        "id": "83-aWjx3BO2a"
      },
      "execution_count": 28,
      "outputs": []
    },
    {
      "cell_type": "code",
      "source": [
        "# TODO: Explore the data\n",
        "df.info()"
      ],
      "metadata": {
        "colab": {
          "base_uri": "https://localhost:8080/"
        },
        "id": "6d9WnZMUBOzp",
        "outputId": "a199f13f-1edd-43ee-a3df-fb8be539236f"
      },
      "execution_count": 29,
      "outputs": [
        {
          "output_type": "stream",
          "name": "stdout",
          "text": [
            "<class 'pandas.core.frame.DataFrame'>\n",
            "RangeIndex: 120 entries, 0 to 119\n",
            "Data columns (total 4 columns):\n",
            " #   Column  Non-Null Count  Dtype \n",
            "---  ------  --------------  ----- \n",
            " 0   Artist  120 non-null    object\n",
            " 1   Song    120 non-null    object\n",
            " 2   Link    120 non-null    object\n",
            " 3   Lyrics  120 non-null    object\n",
            "dtypes: object(4)\n",
            "memory usage: 3.9+ KB\n"
          ]
        }
      ]
    },
    {
      "cell_type": "code",
      "source": [
        "# TODO: Select the song 'Every Teardrop Is A Waterfall'\n",
        "song_title = 'Every Teardrop Is A Waterfall'\n",
        "lyrics = df.loc[df['Song'] == song_title, 'Lyrics'].values[0]\n",
        "print(lyrics)"
      ],
      "metadata": {
        "colab": {
          "base_uri": "https://localhost:8080/"
        },
        "id": "twVCa0_lBOxB",
        "outputId": "6bc40116-112f-47eb-938d-2abec7e4a32f"
      },
      "execution_count": 30,
      "outputs": [
        {
          "output_type": "stream",
          "name": "stdout",
          "text": [
            "I turn the music up, I got my records on  \n",
            "I shut the world outside until the lights come on  \n",
            "Maybe the streets alight, maybe the trees are gone  \n",
            "I feel my heart start beating to my favourite song  \n",
            "  \n",
            "And all the kids they dance, all the kids all night  \n",
            "Until Monday morning feels another life  \n",
            "I turn the music up  \n",
            "I'm on a roll this time  \n",
            "And heaven is in sight  \n",
            "  \n",
            "I turn the music up, I got my records on  \n",
            "From underneath the rubble sing a rebel song  \n",
            "Don't want to see another generation drop  \n",
            "I'd rather be a comma than a full stop  \n",
            "  \n",
            "Maybe I'm in the black, maybe I'm on my knees  \n",
            "Maybe I'm in the gap between the two trapezes  \n",
            "But my heart is beating and my pulses start  \n",
            "Cathedrals in my heart  \n",
            "  \n",
            "As we saw oh this light I swear you, emerge blinking into  \n",
            "To tell me it's alright  \n",
            "As we soar walls, every siren is a symphony  \n",
            "And every tear's a waterfall  \n",
            "Is a waterfall  \n",
            "Oh  \n",
            "Is a waterfall  \n",
            "Oh oh oh  \n",
            "Is a is a waterfall  \n",
            "Every tear  \n",
            "Is a waterfall  \n",
            "Oh oh oh  \n",
            "  \n",
            "So you can hurt, hurt me bad  \n",
            "But still I'll raise the flag  \n",
            "  \n",
            "Oh  \n",
            "It was a wa wa wa wa wa-aterfall  \n",
            "A wa wa wa wa wa-aterfall  \n",
            "  \n",
            "Every tear  \n",
            "Every tear  \n",
            "Every teardrop is a waterfall  \n",
            "  \n",
            "Every tear  \n",
            "Every tear  \n",
            "Every teardrop is a waterfall  \n",
            "  \n",
            "Every tear  \n",
            "Every tear  \n",
            "Every teardrop is a waterfall\n",
            "\n",
            "\n"
          ]
        }
      ]
    },
    {
      "cell_type": "code",
      "source": [
        "# TODO: Tokenize the lyrics of the song and save the tokens into a variable and print it\n",
        "import nltk \n",
        "import string\n",
        "from nltk import word_tokenize\n",
        "words = word_tokenize(lyrics)\n",
        "print(words)"
      ],
      "metadata": {
        "colab": {
          "base_uri": "https://localhost:8080/"
        },
        "id": "xpFZrLoaBOuJ",
        "outputId": "c441b968-7a77-4dbc-90d3-2dc716da74ad"
      },
      "execution_count": 31,
      "outputs": [
        {
          "output_type": "stream",
          "name": "stdout",
          "text": [
            "['I', 'turn', 'the', 'music', 'up', ',', 'I', 'got', 'my', 'records', 'on', 'I', 'shut', 'the', 'world', 'outside', 'until', 'the', 'lights', 'come', 'on', 'Maybe', 'the', 'streets', 'alight', ',', 'maybe', 'the', 'trees', 'are', 'gone', 'I', 'feel', 'my', 'heart', 'start', 'beating', 'to', 'my', 'favourite', 'song', 'And', 'all', 'the', 'kids', 'they', 'dance', ',', 'all', 'the', 'kids', 'all', 'night', 'Until', 'Monday', 'morning', 'feels', 'another', 'life', 'I', 'turn', 'the', 'music', 'up', 'I', \"'m\", 'on', 'a', 'roll', 'this', 'time', 'And', 'heaven', 'is', 'in', 'sight', 'I', 'turn', 'the', 'music', 'up', ',', 'I', 'got', 'my', 'records', 'on', 'From', 'underneath', 'the', 'rubble', 'sing', 'a', 'rebel', 'song', 'Do', \"n't\", 'want', 'to', 'see', 'another', 'generation', 'drop', 'I', \"'d\", 'rather', 'be', 'a', 'comma', 'than', 'a', 'full', 'stop', 'Maybe', 'I', \"'m\", 'in', 'the', 'black', ',', 'maybe', 'I', \"'m\", 'on', 'my', 'knees', 'Maybe', 'I', \"'m\", 'in', 'the', 'gap', 'between', 'the', 'two', 'trapezes', 'But', 'my', 'heart', 'is', 'beating', 'and', 'my', 'pulses', 'start', 'Cathedrals', 'in', 'my', 'heart', 'As', 'we', 'saw', 'oh', 'this', 'light', 'I', 'swear', 'you', ',', 'emerge', 'blinking', 'into', 'To', 'tell', 'me', 'it', \"'s\", 'alright', 'As', 'we', 'soar', 'walls', ',', 'every', 'siren', 'is', 'a', 'symphony', 'And', 'every', 'tear', \"'s\", 'a', 'waterfall', 'Is', 'a', 'waterfall', 'Oh', 'Is', 'a', 'waterfall', 'Oh', 'oh', 'oh', 'Is', 'a', 'is', 'a', 'waterfall', 'Every', 'tear', 'Is', 'a', 'waterfall', 'Oh', 'oh', 'oh', 'So', 'you', 'can', 'hurt', ',', 'hurt', 'me', 'bad', 'But', 'still', 'I', \"'ll\", 'raise', 'the', 'flag', 'Oh', 'It', 'was', 'a', 'wa', 'wa', 'wa', 'wa', 'wa-aterfall', 'A', 'wa', 'wa', 'wa', 'wa', 'wa-aterfall', 'Every', 'tear', 'Every', 'tear', 'Every', 'teardrop', 'is', 'a', 'waterfall', 'Every', 'tear', 'Every', 'tear', 'Every', 'teardrop', 'is', 'a', 'waterfall', 'Every', 'tear', 'Every', 'tear', 'Every', 'teardrop', 'is', 'a', 'waterfall']\n"
          ]
        }
      ]
    },
    {
      "cell_type": "code",
      "source": [
        "# TODO: Remove the punctuation, then save the result into a variable and print it\n",
        "tokens_without_punctuation = [token for token in words if token not in string.punctuation]\n",
        "print(tokens_without_punctuation)"
      ],
      "metadata": {
        "colab": {
          "base_uri": "https://localhost:8080/"
        },
        "id": "Y6wo6lLkBOrM",
        "outputId": "35f32e11-ae75-4e5d-b0b6-9167f785a2ce"
      },
      "execution_count": 32,
      "outputs": [
        {
          "output_type": "stream",
          "name": "stdout",
          "text": [
            "['I', 'turn', 'the', 'music', 'up', 'I', 'got', 'my', 'records', 'on', 'I', 'shut', 'the', 'world', 'outside', 'until', 'the', 'lights', 'come', 'on', 'Maybe', 'the', 'streets', 'alight', 'maybe', 'the', 'trees', 'are', 'gone', 'I', 'feel', 'my', 'heart', 'start', 'beating', 'to', 'my', 'favourite', 'song', 'And', 'all', 'the', 'kids', 'they', 'dance', 'all', 'the', 'kids', 'all', 'night', 'Until', 'Monday', 'morning', 'feels', 'another', 'life', 'I', 'turn', 'the', 'music', 'up', 'I', \"'m\", 'on', 'a', 'roll', 'this', 'time', 'And', 'heaven', 'is', 'in', 'sight', 'I', 'turn', 'the', 'music', 'up', 'I', 'got', 'my', 'records', 'on', 'From', 'underneath', 'the', 'rubble', 'sing', 'a', 'rebel', 'song', 'Do', \"n't\", 'want', 'to', 'see', 'another', 'generation', 'drop', 'I', \"'d\", 'rather', 'be', 'a', 'comma', 'than', 'a', 'full', 'stop', 'Maybe', 'I', \"'m\", 'in', 'the', 'black', 'maybe', 'I', \"'m\", 'on', 'my', 'knees', 'Maybe', 'I', \"'m\", 'in', 'the', 'gap', 'between', 'the', 'two', 'trapezes', 'But', 'my', 'heart', 'is', 'beating', 'and', 'my', 'pulses', 'start', 'Cathedrals', 'in', 'my', 'heart', 'As', 'we', 'saw', 'oh', 'this', 'light', 'I', 'swear', 'you', 'emerge', 'blinking', 'into', 'To', 'tell', 'me', 'it', \"'s\", 'alright', 'As', 'we', 'soar', 'walls', 'every', 'siren', 'is', 'a', 'symphony', 'And', 'every', 'tear', \"'s\", 'a', 'waterfall', 'Is', 'a', 'waterfall', 'Oh', 'Is', 'a', 'waterfall', 'Oh', 'oh', 'oh', 'Is', 'a', 'is', 'a', 'waterfall', 'Every', 'tear', 'Is', 'a', 'waterfall', 'Oh', 'oh', 'oh', 'So', 'you', 'can', 'hurt', 'hurt', 'me', 'bad', 'But', 'still', 'I', \"'ll\", 'raise', 'the', 'flag', 'Oh', 'It', 'was', 'a', 'wa', 'wa', 'wa', 'wa', 'wa-aterfall', 'A', 'wa', 'wa', 'wa', 'wa', 'wa-aterfall', 'Every', 'tear', 'Every', 'tear', 'Every', 'teardrop', 'is', 'a', 'waterfall', 'Every', 'tear', 'Every', 'tear', 'Every', 'teardrop', 'is', 'a', 'waterfall', 'Every', 'tear', 'Every', 'tear', 'Every', 'teardrop', 'is', 'a', 'waterfall']\n"
          ]
        }
      ]
    },
    {
      "cell_type": "code",
      "source": [
        "from nltk.corpus import wordnet\n",
        "\n",
        "def get_wordnet_pos(pos_tag):\n",
        "    output = np.asarray(pos_tag)\n",
        "    for i in range(len(pos_tag)):\n",
        "        if pos_tag[i][1].startswith('J'):\n",
        "            output[i][1] = wordnet.ADJ\n",
        "        elif pos_tag[i][1].startswith('V'):\n",
        "            output[i][1] = wordnet.VERB\n",
        "        elif pos_tag[i][1].startswith('R'):\n",
        "            output[i][1] = wordnet.ADV\n",
        "        else:\n",
        "            output[i][1] = wordnet.NOUN\n",
        "    return output"
      ],
      "metadata": {
        "id": "7_41JijqLfZl"
      },
      "execution_count": 37,
      "outputs": []
    },
    {
      "cell_type": "code",
      "source": [
        "#2. Bag-of-words\n",
        "import nltk\n",
        "import numpy as np\n",
        "import pandas as pd\n",
        "from sklearn.feature_extraction.text import CountVectorizer"
      ],
      "metadata": {
        "id": "1_xmE2THBOhX"
      },
      "execution_count": 38,
      "outputs": []
    },
    {
      "cell_type": "code",
      "source": [
        "# TODO: Load the dataset in coldplay.csv\n",
        "df=pd.read_csv(\"coldplay.csv\")"
      ],
      "metadata": {
        "id": "jK_ItOLhIoh5"
      },
      "execution_count": 39,
      "outputs": []
    },
    {
      "cell_type": "code",
      "source": [
        "# TODO: Explore the data\n",
        "df.info()"
      ],
      "metadata": {
        "colab": {
          "base_uri": "https://localhost:8080/"
        },
        "id": "NAvGSlyYIopU",
        "outputId": "b420b268-7bc5-4e58-af1a-507d59d5d30d"
      },
      "execution_count": 40,
      "outputs": [
        {
          "output_type": "stream",
          "name": "stdout",
          "text": [
            "<class 'pandas.core.frame.DataFrame'>\n",
            "RangeIndex: 120 entries, 0 to 119\n",
            "Data columns (total 4 columns):\n",
            " #   Column  Non-Null Count  Dtype \n",
            "---  ------  --------------  ----- \n",
            " 0   Artist  120 non-null    object\n",
            " 1   Song    120 non-null    object\n",
            " 2   Link    120 non-null    object\n",
            " 3   Lyrics  120 non-null    object\n",
            "dtypes: object(4)\n",
            "memory usage: 3.9+ KB\n"
          ]
        }
      ]
    },
    {
      "cell_type": "code",
      "source": [
        "# TODO: Compute a BOW\n",
        "from sklearn.feature_extraction.text import CountVectorizer\n",
        "vectorizer = CountVectorizer()\n",
        "bow = vectorizer.fit_transform(df['Lyrics'])\n",
        "print(bow.shape)"
      ],
      "metadata": {
        "colab": {
          "base_uri": "https://localhost:8080/"
        },
        "id": "PketuGQ0IosE",
        "outputId": "3b68f6bc-1974-4b38-b9b3-71678b0d2584"
      },
      "execution_count": 41,
      "outputs": [
        {
          "output_type": "stream",
          "name": "stdout",
          "text": [
            "(120, 1776)\n"
          ]
        }
      ]
    },
    {
      "cell_type": "code",
      "source": [
        "# TODO: Create a new dataframe containing the BOW outputs and the corresponding words as columns. And print it\n",
        "feature_names = vectorizer.get_feature_names_out()\n",
        "bow_df = pd.DataFrame(bow.toarray(), columns=feature_names)\n",
        "bow_df"
      ],
      "metadata": {
        "colab": {
          "base_uri": "https://localhost:8080/",
          "height": 423
        },
        "id": "fG8JuhTlIour",
        "outputId": "7e793f96-91cc-4e7a-e42e-3fe89ba947d0"
      },
      "execution_count": 43,
      "outputs": [
        {
          "output_type": "execute_result",
          "data": {
            "text/plain": [
              "     10  2000  2gether  76543  aaaaaah  aaaaah  aaaah  about  above  achin  \\\n",
              "0     0     0        0      0        0       0      0      0      0      0   \n",
              "1     0     0        0      0        0       0      0      0      0      0   \n",
              "2     0     0        0      0        0       0      0      0      0      0   \n",
              "3     0     0        0      0        0       0      0      0      0      0   \n",
              "4     0     0        0      0        0       0      0      0      0      0   \n",
              "..   ..   ...      ...    ...      ...     ...    ...    ...    ...    ...   \n",
              "115   0     0        0      0        0       0      0      1      2      0   \n",
              "116   0     0        0      0        0       0      0      0      0      0   \n",
              "117   0     0        1      0        0       0      0      0      0      0   \n",
              "118   0     0        0      0        0       0      0      0      0      0   \n",
              "119   0     0        0      0        0       0      0      0      0      0   \n",
              "\n",
              "     ...  yellow  yes  yesterday  yet  you  young  your  yours  yourself  \\\n",
              "0    ...       0    0          0    0    4      0     4      0         2   \n",
              "1    ...       0    0          0    0    0      0     0      0         0   \n",
              "2    ...       0    0          0    0    0      0     0      0         0   \n",
              "3    ...       0    0          0    0   16      0     0      0         0   \n",
              "4    ...       0    0          0    0    2      0     0      0         0   \n",
              "..   ...     ...  ...        ...  ...  ...    ...   ...    ...       ...   \n",
              "115  ...       0    0          0    0    5      0     3      0         0   \n",
              "116  ...       0    0          0    0    9      0     0      0         0   \n",
              "117  ...       0    0          0    0    7      0     4      0         0   \n",
              "118  ...       0    0          0    0   16      0     1      0         0   \n",
              "119  ...       0    0          0    0    5      0     0      0         0   \n",
              "\n",
              "     yuletide  \n",
              "0           0  \n",
              "1           0  \n",
              "2           0  \n",
              "3           0  \n",
              "4           0  \n",
              "..        ...  \n",
              "115         0  \n",
              "116         0  \n",
              "117         0  \n",
              "118         0  \n",
              "119         0  \n",
              "\n",
              "[120 rows x 1776 columns]"
            ],
            "text/html": [
              "\n",
              "  <div id=\"df-5c6d6188-5f49-4eb1-8089-07e538303cc2\">\n",
              "    <div class=\"colab-df-container\">\n",
              "      <div>\n",
              "<style scoped>\n",
              "    .dataframe tbody tr th:only-of-type {\n",
              "        vertical-align: middle;\n",
              "    }\n",
              "\n",
              "    .dataframe tbody tr th {\n",
              "        vertical-align: top;\n",
              "    }\n",
              "\n",
              "    .dataframe thead th {\n",
              "        text-align: right;\n",
              "    }\n",
              "</style>\n",
              "<table border=\"1\" class=\"dataframe\">\n",
              "  <thead>\n",
              "    <tr style=\"text-align: right;\">\n",
              "      <th></th>\n",
              "      <th>10</th>\n",
              "      <th>2000</th>\n",
              "      <th>2gether</th>\n",
              "      <th>76543</th>\n",
              "      <th>aaaaaah</th>\n",
              "      <th>aaaaah</th>\n",
              "      <th>aaaah</th>\n",
              "      <th>about</th>\n",
              "      <th>above</th>\n",
              "      <th>achin</th>\n",
              "      <th>...</th>\n",
              "      <th>yellow</th>\n",
              "      <th>yes</th>\n",
              "      <th>yesterday</th>\n",
              "      <th>yet</th>\n",
              "      <th>you</th>\n",
              "      <th>young</th>\n",
              "      <th>your</th>\n",
              "      <th>yours</th>\n",
              "      <th>yourself</th>\n",
              "      <th>yuletide</th>\n",
              "    </tr>\n",
              "  </thead>\n",
              "  <tbody>\n",
              "    <tr>\n",
              "      <th>0</th>\n",
              "      <td>0</td>\n",
              "      <td>0</td>\n",
              "      <td>0</td>\n",
              "      <td>0</td>\n",
              "      <td>0</td>\n",
              "      <td>0</td>\n",
              "      <td>0</td>\n",
              "      <td>0</td>\n",
              "      <td>0</td>\n",
              "      <td>0</td>\n",
              "      <td>...</td>\n",
              "      <td>0</td>\n",
              "      <td>0</td>\n",
              "      <td>0</td>\n",
              "      <td>0</td>\n",
              "      <td>4</td>\n",
              "      <td>0</td>\n",
              "      <td>4</td>\n",
              "      <td>0</td>\n",
              "      <td>2</td>\n",
              "      <td>0</td>\n",
              "    </tr>\n",
              "    <tr>\n",
              "      <th>1</th>\n",
              "      <td>0</td>\n",
              "      <td>0</td>\n",
              "      <td>0</td>\n",
              "      <td>0</td>\n",
              "      <td>0</td>\n",
              "      <td>0</td>\n",
              "      <td>0</td>\n",
              "      <td>0</td>\n",
              "      <td>0</td>\n",
              "      <td>0</td>\n",
              "      <td>...</td>\n",
              "      <td>0</td>\n",
              "      <td>0</td>\n",
              "      <td>0</td>\n",
              "      <td>0</td>\n",
              "      <td>0</td>\n",
              "      <td>0</td>\n",
              "      <td>0</td>\n",
              "      <td>0</td>\n",
              "      <td>0</td>\n",
              "      <td>0</td>\n",
              "    </tr>\n",
              "    <tr>\n",
              "      <th>2</th>\n",
              "      <td>0</td>\n",
              "      <td>0</td>\n",
              "      <td>0</td>\n",
              "      <td>0</td>\n",
              "      <td>0</td>\n",
              "      <td>0</td>\n",
              "      <td>0</td>\n",
              "      <td>0</td>\n",
              "      <td>0</td>\n",
              "      <td>0</td>\n",
              "      <td>...</td>\n",
              "      <td>0</td>\n",
              "      <td>0</td>\n",
              "      <td>0</td>\n",
              "      <td>0</td>\n",
              "      <td>0</td>\n",
              "      <td>0</td>\n",
              "      <td>0</td>\n",
              "      <td>0</td>\n",
              "      <td>0</td>\n",
              "      <td>0</td>\n",
              "    </tr>\n",
              "    <tr>\n",
              "      <th>3</th>\n",
              "      <td>0</td>\n",
              "      <td>0</td>\n",
              "      <td>0</td>\n",
              "      <td>0</td>\n",
              "      <td>0</td>\n",
              "      <td>0</td>\n",
              "      <td>0</td>\n",
              "      <td>0</td>\n",
              "      <td>0</td>\n",
              "      <td>0</td>\n",
              "      <td>...</td>\n",
              "      <td>0</td>\n",
              "      <td>0</td>\n",
              "      <td>0</td>\n",
              "      <td>0</td>\n",
              "      <td>16</td>\n",
              "      <td>0</td>\n",
              "      <td>0</td>\n",
              "      <td>0</td>\n",
              "      <td>0</td>\n",
              "      <td>0</td>\n",
              "    </tr>\n",
              "    <tr>\n",
              "      <th>4</th>\n",
              "      <td>0</td>\n",
              "      <td>0</td>\n",
              "      <td>0</td>\n",
              "      <td>0</td>\n",
              "      <td>0</td>\n",
              "      <td>0</td>\n",
              "      <td>0</td>\n",
              "      <td>0</td>\n",
              "      <td>0</td>\n",
              "      <td>0</td>\n",
              "      <td>...</td>\n",
              "      <td>0</td>\n",
              "      <td>0</td>\n",
              "      <td>0</td>\n",
              "      <td>0</td>\n",
              "      <td>2</td>\n",
              "      <td>0</td>\n",
              "      <td>0</td>\n",
              "      <td>0</td>\n",
              "      <td>0</td>\n",
              "      <td>0</td>\n",
              "    </tr>\n",
              "    <tr>\n",
              "      <th>...</th>\n",
              "      <td>...</td>\n",
              "      <td>...</td>\n",
              "      <td>...</td>\n",
              "      <td>...</td>\n",
              "      <td>...</td>\n",
              "      <td>...</td>\n",
              "      <td>...</td>\n",
              "      <td>...</td>\n",
              "      <td>...</td>\n",
              "      <td>...</td>\n",
              "      <td>...</td>\n",
              "      <td>...</td>\n",
              "      <td>...</td>\n",
              "      <td>...</td>\n",
              "      <td>...</td>\n",
              "      <td>...</td>\n",
              "      <td>...</td>\n",
              "      <td>...</td>\n",
              "      <td>...</td>\n",
              "      <td>...</td>\n",
              "      <td>...</td>\n",
              "    </tr>\n",
              "    <tr>\n",
              "      <th>115</th>\n",
              "      <td>0</td>\n",
              "      <td>0</td>\n",
              "      <td>0</td>\n",
              "      <td>0</td>\n",
              "      <td>0</td>\n",
              "      <td>0</td>\n",
              "      <td>0</td>\n",
              "      <td>1</td>\n",
              "      <td>2</td>\n",
              "      <td>0</td>\n",
              "      <td>...</td>\n",
              "      <td>0</td>\n",
              "      <td>0</td>\n",
              "      <td>0</td>\n",
              "      <td>0</td>\n",
              "      <td>5</td>\n",
              "      <td>0</td>\n",
              "      <td>3</td>\n",
              "      <td>0</td>\n",
              "      <td>0</td>\n",
              "      <td>0</td>\n",
              "    </tr>\n",
              "    <tr>\n",
              "      <th>116</th>\n",
              "      <td>0</td>\n",
              "      <td>0</td>\n",
              "      <td>0</td>\n",
              "      <td>0</td>\n",
              "      <td>0</td>\n",
              "      <td>0</td>\n",
              "      <td>0</td>\n",
              "      <td>0</td>\n",
              "      <td>0</td>\n",
              "      <td>0</td>\n",
              "      <td>...</td>\n",
              "      <td>0</td>\n",
              "      <td>0</td>\n",
              "      <td>0</td>\n",
              "      <td>0</td>\n",
              "      <td>9</td>\n",
              "      <td>0</td>\n",
              "      <td>0</td>\n",
              "      <td>0</td>\n",
              "      <td>0</td>\n",
              "      <td>0</td>\n",
              "    </tr>\n",
              "    <tr>\n",
              "      <th>117</th>\n",
              "      <td>0</td>\n",
              "      <td>0</td>\n",
              "      <td>1</td>\n",
              "      <td>0</td>\n",
              "      <td>0</td>\n",
              "      <td>0</td>\n",
              "      <td>0</td>\n",
              "      <td>0</td>\n",
              "      <td>0</td>\n",
              "      <td>0</td>\n",
              "      <td>...</td>\n",
              "      <td>0</td>\n",
              "      <td>0</td>\n",
              "      <td>0</td>\n",
              "      <td>0</td>\n",
              "      <td>7</td>\n",
              "      <td>0</td>\n",
              "      <td>4</td>\n",
              "      <td>0</td>\n",
              "      <td>0</td>\n",
              "      <td>0</td>\n",
              "    </tr>\n",
              "    <tr>\n",
              "      <th>118</th>\n",
              "      <td>0</td>\n",
              "      <td>0</td>\n",
              "      <td>0</td>\n",
              "      <td>0</td>\n",
              "      <td>0</td>\n",
              "      <td>0</td>\n",
              "      <td>0</td>\n",
              "      <td>0</td>\n",
              "      <td>0</td>\n",
              "      <td>0</td>\n",
              "      <td>...</td>\n",
              "      <td>0</td>\n",
              "      <td>0</td>\n",
              "      <td>0</td>\n",
              "      <td>0</td>\n",
              "      <td>16</td>\n",
              "      <td>0</td>\n",
              "      <td>1</td>\n",
              "      <td>0</td>\n",
              "      <td>0</td>\n",
              "      <td>0</td>\n",
              "    </tr>\n",
              "    <tr>\n",
              "      <th>119</th>\n",
              "      <td>0</td>\n",
              "      <td>0</td>\n",
              "      <td>0</td>\n",
              "      <td>0</td>\n",
              "      <td>0</td>\n",
              "      <td>0</td>\n",
              "      <td>0</td>\n",
              "      <td>0</td>\n",
              "      <td>0</td>\n",
              "      <td>0</td>\n",
              "      <td>...</td>\n",
              "      <td>0</td>\n",
              "      <td>0</td>\n",
              "      <td>0</td>\n",
              "      <td>0</td>\n",
              "      <td>5</td>\n",
              "      <td>0</td>\n",
              "      <td>0</td>\n",
              "      <td>0</td>\n",
              "      <td>0</td>\n",
              "      <td>0</td>\n",
              "    </tr>\n",
              "  </tbody>\n",
              "</table>\n",
              "<p>120 rows × 1776 columns</p>\n",
              "</div>\n",
              "      <button class=\"colab-df-convert\" onclick=\"convertToInteractive('df-5c6d6188-5f49-4eb1-8089-07e538303cc2')\"\n",
              "              title=\"Convert this dataframe to an interactive table.\"\n",
              "              style=\"display:none;\">\n",
              "        \n",
              "  <svg xmlns=\"http://www.w3.org/2000/svg\" height=\"24px\"viewBox=\"0 0 24 24\"\n",
              "       width=\"24px\">\n",
              "    <path d=\"M0 0h24v24H0V0z\" fill=\"none\"/>\n",
              "    <path d=\"M18.56 5.44l.94 2.06.94-2.06 2.06-.94-2.06-.94-.94-2.06-.94 2.06-2.06.94zm-11 1L8.5 8.5l.94-2.06 2.06-.94-2.06-.94L8.5 2.5l-.94 2.06-2.06.94zm10 10l.94 2.06.94-2.06 2.06-.94-2.06-.94-.94-2.06-.94 2.06-2.06.94z\"/><path d=\"M17.41 7.96l-1.37-1.37c-.4-.4-.92-.59-1.43-.59-.52 0-1.04.2-1.43.59L10.3 9.45l-7.72 7.72c-.78.78-.78 2.05 0 2.83L4 21.41c.39.39.9.59 1.41.59.51 0 1.02-.2 1.41-.59l7.78-7.78 2.81-2.81c.8-.78.8-2.07 0-2.86zM5.41 20L4 18.59l7.72-7.72 1.47 1.35L5.41 20z\"/>\n",
              "  </svg>\n",
              "      </button>\n",
              "      \n",
              "  <style>\n",
              "    .colab-df-container {\n",
              "      display:flex;\n",
              "      flex-wrap:wrap;\n",
              "      gap: 12px;\n",
              "    }\n",
              "\n",
              "    .colab-df-convert {\n",
              "      background-color: #E8F0FE;\n",
              "      border: none;\n",
              "      border-radius: 50%;\n",
              "      cursor: pointer;\n",
              "      display: none;\n",
              "      fill: #1967D2;\n",
              "      height: 32px;\n",
              "      padding: 0 0 0 0;\n",
              "      width: 32px;\n",
              "    }\n",
              "\n",
              "    .colab-df-convert:hover {\n",
              "      background-color: #E2EBFA;\n",
              "      box-shadow: 0px 1px 2px rgba(60, 64, 67, 0.3), 0px 1px 3px 1px rgba(60, 64, 67, 0.15);\n",
              "      fill: #174EA6;\n",
              "    }\n",
              "\n",
              "    [theme=dark] .colab-df-convert {\n",
              "      background-color: #3B4455;\n",
              "      fill: #D2E3FC;\n",
              "    }\n",
              "\n",
              "    [theme=dark] .colab-df-convert:hover {\n",
              "      background-color: #434B5C;\n",
              "      box-shadow: 0px 1px 3px 1px rgba(0, 0, 0, 0.15);\n",
              "      filter: drop-shadow(0px 1px 2px rgba(0, 0, 0, 0.3));\n",
              "      fill: #FFFFFF;\n",
              "    }\n",
              "  </style>\n",
              "\n",
              "      <script>\n",
              "        const buttonEl =\n",
              "          document.querySelector('#df-5c6d6188-5f49-4eb1-8089-07e538303cc2 button.colab-df-convert');\n",
              "        buttonEl.style.display =\n",
              "          google.colab.kernel.accessAllowed ? 'block' : 'none';\n",
              "\n",
              "        async function convertToInteractive(key) {\n",
              "          const element = document.querySelector('#df-5c6d6188-5f49-4eb1-8089-07e538303cc2');\n",
              "          const dataTable =\n",
              "            await google.colab.kernel.invokeFunction('convertToInteractive',\n",
              "                                                     [key], {});\n",
              "          if (!dataTable) return;\n",
              "\n",
              "          const docLinkHtml = 'Like what you see? Visit the ' +\n",
              "            '<a target=\"_blank\" href=https://colab.research.google.com/notebooks/data_table.ipynb>data table notebook</a>'\n",
              "            + ' to learn more about interactive tables.';\n",
              "          element.innerHTML = '';\n",
              "          dataTable['output_type'] = 'display_data';\n",
              "          await google.colab.output.renderOutput(dataTable, element);\n",
              "          const docLink = document.createElement('div');\n",
              "          docLink.innerHTML = docLinkHtml;\n",
              "          element.appendChild(docLink);\n",
              "        }\n",
              "      </script>\n",
              "    </div>\n",
              "  </div>\n",
              "  "
            ]
          },
          "metadata": {},
          "execution_count": 43
        }
      ]
    },
    {
      "cell_type": "code",
      "source": [
        "sum_bow = bow_df.sum()\n",
        "sum_bow.idxmax()"
      ],
      "metadata": {
        "colab": {
          "base_uri": "https://localhost:8080/",
          "height": 36
        },
        "id": "Go4Ap1CKIoxc",
        "outputId": "2e591d1b-bc0f-4e28-ae63-2c0575be9232"
      },
      "execution_count": 44,
      "outputs": [
        {
          "output_type": "execute_result",
          "data": {
            "text/plain": [
              "'you'"
            ],
            "application/vnd.google.colaboratory.intrinsic+json": {
              "type": "string"
            }
          },
          "metadata": {},
          "execution_count": 44
        }
      ]
    },
    {
      "cell_type": "code",
      "source": [
        "# TODO: print the 10 most used word by Coldplay\n",
        "word_counts = bow_df.sum()\n",
        "top_10_words = word_counts.nlargest(10)\n",
        "print (top_10_words)"
      ],
      "metadata": {
        "colab": {
          "base_uri": "https://localhost:8080/"
        },
        "id": "EeRWqMMOIo0D",
        "outputId": "89787d0e-413e-4a34-f229-d613617fbce9"
      },
      "execution_count": 45,
      "outputs": [
        {
          "output_type": "stream",
          "name": "stdout",
          "text": [
            "you    994\n",
            "the    777\n",
            "and    650\n",
            "to     481\n",
            "it     458\n",
            "oh     334\n",
            "in     318\n",
            "me     314\n",
            "my     288\n",
            "on     285\n",
            "dtype: int64\n"
          ]
        }
      ]
    },
    {
      "cell_type": "code",
      "source": [
        "#III. Text Similarity"
      ],
      "metadata": {
        "id": "iTp3fLTfIo2b"
      },
      "execution_count": null,
      "outputs": []
    },
    {
      "cell_type": "code",
      "source": [
        "#1. Similarity metrics \n",
        "import nltk\n",
        "import numpy as np\n",
        "import pandas as pd"
      ],
      "metadata": {
        "id": "bcc1NbTmIo4_"
      },
      "execution_count": 46,
      "outputs": []
    },
    {
      "cell_type": "code",
      "source": [
        "A = \"Outside the classroom, Stallman pursued his studies with even more diligence, rushing off to fulfill his laboratory-assistant duties at Rockefeller University during the week and dodging the Vietnam protesters on his way to Saturday school at Columbia. It was there, while the rest of the Science Honors Program students sat around discussing their college choices, that Stallman finally took a moment to participate in the preclass bull session.\"\n",
        "B = \"To facilitate the process, AI Lab hackers had built a system that displayed both the source and display modes on a split screen. Despite this innovative hack, switching from mode to mode was still a nuisance.\"\n",
        "C = \"With no dorm and no dancing, Stallman's social universe imploded. Like an astronaut experiencing the aftereffects of zero-gravity, Stallman found that his ability to interact with nonhackers, especially female nonhackers, had atrophied significantly. After 16 weeks in the AI Lab, the self confidence he'd been quietly accumulating during his 4 years at Harvard was virtually gone.\""
      ],
      "metadata": {
        "id": "qRjwil5ZOCKd"
      },
      "execution_count": 47,
      "outputs": []
    },
    {
      "cell_type": "code",
      "source": [
        "# TODO: compute the Jaccard similarities\n",
        "# Split the sentences\n",
        "set_A = set(A.lower().split())\n",
        "set_B = set(B.lower().split())\n",
        "set_C = set(C.lower().split())\n",
        "# Compute the intersection and union\n",
        "intersection_AB = len(set_A.intersection(set_B))\n",
        "union_AB = len(set_A.union(set_B))\n",
        "\n",
        "intersection_AC = len(set_A.intersection(set_C))\n",
        "union_AC = len(set_A.union(set_C))\n",
        "\n",
        "intersection_BC = len(set_B.intersection(set_C))\n",
        "union_BC = len(set_B.union(set_C))\n",
        "# Compute and print the Jaccard Similarity\n",
        "jaccard_AB = intersection_AB /union_AB\n",
        "jaccard_AC = intersection_AC /union_AC\n",
        "jaccard_BC = intersection_BC /union_BC\n",
        "\n",
        "print(\"Jaccard Similarity between A and B:\", jaccard_AB)\n",
        "print(\"Jaccard Similarity between A and C:\", jaccard_AC)\n",
        "print(\"Jaccard Similarity between B and C:\", jaccard_BC)"
      ],
      "metadata": {
        "colab": {
          "base_uri": "https://localhost:8080/"
        },
        "id": "hisuXGA1OCTU",
        "outputId": "8127512e-91ad-4c5e-c4fc-a32c3a8caa97"
      },
      "execution_count": 49,
      "outputs": [
        {
          "output_type": "stream",
          "name": "stdout",
          "text": [
            "Jaccard Similarity between A and B: 0.08641975308641975\n",
            "Jaccard Similarity between A and C: 0.12631578947368421\n",
            "Jaccard Similarity between B and C: 0.0945945945945946\n"
          ]
        }
      ]
    },
    {
      "cell_type": "code",
      "source": [
        "# TODO: compute the TF-IDF of A, B and C and the cosine similarities of all possibilities\n",
        "from sklearn.feature_extraction.text import TfidfVectorizer\n",
        "from sklearn.metrics.pairwise import cosine_similarity\n",
        "\n",
        "# Create a TF-IDF vectorizer\n",
        "vectorizer = TfidfVectorizer()\n",
        "\n",
        "# Compute TF-IDF for sentences A, B, and C\n",
        "tfidf = vectorizer.fit_transform([A, B, C])\n",
        "\n",
        "# Calculate cosine similarities\n",
        "cosine_sim_AB = cosine_similarity(tfidf[0], tfidf[1])\n",
        "cosine_sim_BC = cosine_similarity(tfidf[1], tfidf[2])\n",
        "cosine_sim_AC = cosine_similarity(tfidf[0], tfidf[2])\n",
        "\n",
        "# Print cosine similarities \n",
        "print(\"cos(A, B):\", cosine_sim_AB)\n",
        "print(\"cos(B, C):\", cosine_sim_BC)\n",
        "print(\"cos(A, C):\", cosine_sim_AC)"
      ],
      "metadata": {
        "colab": {
          "base_uri": "https://localhost:8080/"
        },
        "id": "1vWTvVdZOCWN",
        "outputId": "b9fe53b4-9240-4e76-bb31-35b34325ae39"
      },
      "execution_count": 51,
      "outputs": [
        {
          "output_type": "stream",
          "name": "stdout",
          "text": [
            "cos(A, B): [[0.1679327]]\n",
            "cos(B, C): [[0.13618963]]\n",
            "cos(A, C): [[0.2850296]]\n"
          ]
        }
      ]
    },
    {
      "cell_type": "code",
      "source": [
        "#2. TF-IDF "
      ],
      "metadata": {
        "id": "9LR63fSTIo7X"
      },
      "execution_count": null,
      "outputs": []
    },
    {
      "cell_type": "code",
      "source": [
        "import nltk\n",
        "import numpy as np\n",
        "import pandas as pd"
      ],
      "metadata": {
        "id": "739FGtQiRkCF"
      },
      "execution_count": 52,
      "outputs": []
    },
    {
      "cell_type": "code",
      "source": [
        "# TODO: Load the dataset\n",
        "df=pd.read_csv(\"headlines.csv\")\n",
        "df.info()"
      ],
      "metadata": {
        "colab": {
          "base_uri": "https://localhost:8080/"
        },
        "id": "1wIIobFoRk6o",
        "outputId": "5192b90c-0620-48b8-cf5c-ad80fc0b7ae6"
      },
      "execution_count": 53,
      "outputs": [
        {
          "output_type": "stream",
          "name": "stdout",
          "text": [
            "<class 'pandas.core.frame.DataFrame'>\n",
            "RangeIndex: 1999 entries, 0 to 1998\n",
            "Data columns (total 2 columns):\n",
            " #   Column         Non-Null Count  Dtype \n",
            "---  ------         --------------  ----- \n",
            " 0   publish_date   1999 non-null   int64 \n",
            " 1   headline_text  1999 non-null   object\n",
            "dtypes: int64(1), object(1)\n",
            "memory usage: 31.4+ KB\n"
          ]
        }
      ]
    },
    {
      "cell_type": "code",
      "source": [
        "# TODO: Have a look at the data\n",
        "df.head(10)"
      ],
      "metadata": {
        "colab": {
          "base_uri": "https://localhost:8080/",
          "height": 363
        },
        "id": "fS6udxdXRk9P",
        "outputId": "4eae018e-b3b5-41e9-b2a7-f7922ca13d18"
      },
      "execution_count": 54,
      "outputs": [
        {
          "output_type": "execute_result",
          "data": {
            "text/plain": [
              "   publish_date                                      headline_text\n",
              "0      20170721  algorithms can make decisions on behalf of fed...\n",
              "1      20170721  andrew forrests fmg to appeal pilbara native t...\n",
              "2      20170721                           a rural mural in thallan\n",
              "3      20170721  australia church risks becoming haven for abusers\n",
              "4      20170721  australian company usgfx embroiled in shanghai...\n",
              "5      20170721  australia suffers shock loss in womens world c...\n",
              "6      20170721                                           big rigs\n",
              "7      20170721  boy charged in connection with supermarket syr...\n",
              "8      20170721  breaking bad creator vince gilligan on success...\n",
              "9      20170721  breaking bad creator vince gilligan on walter ..."
            ],
            "text/html": [
              "\n",
              "  <div id=\"df-59350d5e-86e0-4d2b-8023-cf8b906e79f5\">\n",
              "    <div class=\"colab-df-container\">\n",
              "      <div>\n",
              "<style scoped>\n",
              "    .dataframe tbody tr th:only-of-type {\n",
              "        vertical-align: middle;\n",
              "    }\n",
              "\n",
              "    .dataframe tbody tr th {\n",
              "        vertical-align: top;\n",
              "    }\n",
              "\n",
              "    .dataframe thead th {\n",
              "        text-align: right;\n",
              "    }\n",
              "</style>\n",
              "<table border=\"1\" class=\"dataframe\">\n",
              "  <thead>\n",
              "    <tr style=\"text-align: right;\">\n",
              "      <th></th>\n",
              "      <th>publish_date</th>\n",
              "      <th>headline_text</th>\n",
              "    </tr>\n",
              "  </thead>\n",
              "  <tbody>\n",
              "    <tr>\n",
              "      <th>0</th>\n",
              "      <td>20170721</td>\n",
              "      <td>algorithms can make decisions on behalf of fed...</td>\n",
              "    </tr>\n",
              "    <tr>\n",
              "      <th>1</th>\n",
              "      <td>20170721</td>\n",
              "      <td>andrew forrests fmg to appeal pilbara native t...</td>\n",
              "    </tr>\n",
              "    <tr>\n",
              "      <th>2</th>\n",
              "      <td>20170721</td>\n",
              "      <td>a rural mural in thallan</td>\n",
              "    </tr>\n",
              "    <tr>\n",
              "      <th>3</th>\n",
              "      <td>20170721</td>\n",
              "      <td>australia church risks becoming haven for abusers</td>\n",
              "    </tr>\n",
              "    <tr>\n",
              "      <th>4</th>\n",
              "      <td>20170721</td>\n",
              "      <td>australian company usgfx embroiled in shanghai...</td>\n",
              "    </tr>\n",
              "    <tr>\n",
              "      <th>5</th>\n",
              "      <td>20170721</td>\n",
              "      <td>australia suffers shock loss in womens world c...</td>\n",
              "    </tr>\n",
              "    <tr>\n",
              "      <th>6</th>\n",
              "      <td>20170721</td>\n",
              "      <td>big rigs</td>\n",
              "    </tr>\n",
              "    <tr>\n",
              "      <th>7</th>\n",
              "      <td>20170721</td>\n",
              "      <td>boy charged in connection with supermarket syr...</td>\n",
              "    </tr>\n",
              "    <tr>\n",
              "      <th>8</th>\n",
              "      <td>20170721</td>\n",
              "      <td>breaking bad creator vince gilligan on success...</td>\n",
              "    </tr>\n",
              "    <tr>\n",
              "      <th>9</th>\n",
              "      <td>20170721</td>\n",
              "      <td>breaking bad creator vince gilligan on walter ...</td>\n",
              "    </tr>\n",
              "  </tbody>\n",
              "</table>\n",
              "</div>\n",
              "      <button class=\"colab-df-convert\" onclick=\"convertToInteractive('df-59350d5e-86e0-4d2b-8023-cf8b906e79f5')\"\n",
              "              title=\"Convert this dataframe to an interactive table.\"\n",
              "              style=\"display:none;\">\n",
              "        \n",
              "  <svg xmlns=\"http://www.w3.org/2000/svg\" height=\"24px\"viewBox=\"0 0 24 24\"\n",
              "       width=\"24px\">\n",
              "    <path d=\"M0 0h24v24H0V0z\" fill=\"none\"/>\n",
              "    <path d=\"M18.56 5.44l.94 2.06.94-2.06 2.06-.94-2.06-.94-.94-2.06-.94 2.06-2.06.94zm-11 1L8.5 8.5l.94-2.06 2.06-.94-2.06-.94L8.5 2.5l-.94 2.06-2.06.94zm10 10l.94 2.06.94-2.06 2.06-.94-2.06-.94-.94-2.06-.94 2.06-2.06.94z\"/><path d=\"M17.41 7.96l-1.37-1.37c-.4-.4-.92-.59-1.43-.59-.52 0-1.04.2-1.43.59L10.3 9.45l-7.72 7.72c-.78.78-.78 2.05 0 2.83L4 21.41c.39.39.9.59 1.41.59.51 0 1.02-.2 1.41-.59l7.78-7.78 2.81-2.81c.8-.78.8-2.07 0-2.86zM5.41 20L4 18.59l7.72-7.72 1.47 1.35L5.41 20z\"/>\n",
              "  </svg>\n",
              "      </button>\n",
              "      \n",
              "  <style>\n",
              "    .colab-df-container {\n",
              "      display:flex;\n",
              "      flex-wrap:wrap;\n",
              "      gap: 12px;\n",
              "    }\n",
              "\n",
              "    .colab-df-convert {\n",
              "      background-color: #E8F0FE;\n",
              "      border: none;\n",
              "      border-radius: 50%;\n",
              "      cursor: pointer;\n",
              "      display: none;\n",
              "      fill: #1967D2;\n",
              "      height: 32px;\n",
              "      padding: 0 0 0 0;\n",
              "      width: 32px;\n",
              "    }\n",
              "\n",
              "    .colab-df-convert:hover {\n",
              "      background-color: #E2EBFA;\n",
              "      box-shadow: 0px 1px 2px rgba(60, 64, 67, 0.3), 0px 1px 3px 1px rgba(60, 64, 67, 0.15);\n",
              "      fill: #174EA6;\n",
              "    }\n",
              "\n",
              "    [theme=dark] .colab-df-convert {\n",
              "      background-color: #3B4455;\n",
              "      fill: #D2E3FC;\n",
              "    }\n",
              "\n",
              "    [theme=dark] .colab-df-convert:hover {\n",
              "      background-color: #434B5C;\n",
              "      box-shadow: 0px 1px 3px 1px rgba(0, 0, 0, 0.15);\n",
              "      filter: drop-shadow(0px 1px 2px rgba(0, 0, 0, 0.3));\n",
              "      fill: #FFFFFF;\n",
              "    }\n",
              "  </style>\n",
              "\n",
              "      <script>\n",
              "        const buttonEl =\n",
              "          document.querySelector('#df-59350d5e-86e0-4d2b-8023-cf8b906e79f5 button.colab-df-convert');\n",
              "        buttonEl.style.display =\n",
              "          google.colab.kernel.accessAllowed ? 'block' : 'none';\n",
              "\n",
              "        async function convertToInteractive(key) {\n",
              "          const element = document.querySelector('#df-59350d5e-86e0-4d2b-8023-cf8b906e79f5');\n",
              "          const dataTable =\n",
              "            await google.colab.kernel.invokeFunction('convertToInteractive',\n",
              "                                                     [key], {});\n",
              "          if (!dataTable) return;\n",
              "\n",
              "          const docLinkHtml = 'Like what you see? Visit the ' +\n",
              "            '<a target=\"_blank\" href=https://colab.research.google.com/notebooks/data_table.ipynb>data table notebook</a>'\n",
              "            + ' to learn more about interactive tables.';\n",
              "          element.innerHTML = '';\n",
              "          dataTable['output_type'] = 'display_data';\n",
              "          await google.colab.output.renderOutput(dataTable, element);\n",
              "          const docLink = document.createElement('div');\n",
              "          docLink.innerHTML = docLinkHtml;\n",
              "          element.appendChild(docLink);\n",
              "        }\n",
              "      </script>\n",
              "    </div>\n",
              "  </div>\n",
              "  "
            ]
          },
          "metadata": {},
          "execution_count": 54
        }
      ]
    },
    {
      "cell_type": "code",
      "source": [
        "# TODO: Perform preprocessing\n",
        "# import needed modules\n",
        "import nltk\n",
        "nltk.download('stopwords')\n",
        "from nltk.corpus import stopwords\n",
        "from nltk.tokenize import word_tokenize\n",
        "from nltk.stem import PorterStemmer\n",
        "from sklearn.feature_extraction.text import TfidfVectorizer\n",
        "from sklearn.metrics.pairwise import cosine_similarity\n",
        "import string\n",
        "# Tokenize\n",
        "df['tokens'] = df['headline_text'].apply(lambda x: word_tokenize(x))\n",
        "\n",
        "# Remove punctuation\n",
        "df['tokens'] = df['tokens'].apply(lambda tokens: [token for token in tokens if token not in string.punctuation])\n",
        "\n",
        "# Remove stop words\n",
        "stop_words = set(stopwords.words('english'))\n",
        "df['tokens'] = df['tokens'].apply(lambda tokens: [stemmer.stem(token) for token in tokens])\n",
        "\n",
        "# Stem\n",
        "stemmer = PorterStemmer()\n",
        "df['tokens'] = df['tokens'].apply(lambda tokens: [stemmer.stem(token) for token in tokens])\n",
        "df['tokens']"
      ],
      "metadata": {
        "colab": {
          "base_uri": "https://localhost:8080/"
        },
        "id": "INHy67wpRk_2",
        "outputId": "842ebab9-dd02-48f3-ebce-da38038370a6"
      },
      "execution_count": 57,
      "outputs": [
        {
          "output_type": "stream",
          "name": "stderr",
          "text": [
            "[nltk_data] Downloading package stopwords to /root/nltk_data...\n",
            "[nltk_data]   Package stopwords is already up-to-date!\n"
          ]
        },
        {
          "output_type": "execute_result",
          "data": {
            "text/plain": [
              "0       [algorithm, can, make, deci, on, behalf, of, f...\n",
              "1       [andrew, forrest, fmg, to, appeal, pilbara, na...\n",
              "2                          [a, rural, mural, in, thallan]\n",
              "3       [australia, church, risk, becom, haven, for, abu]\n",
              "4       [australian, compani, usgfx, embroil, in, shan...\n",
              "                              ...                        \n",
              "1994    [constitut, avenu, win, top, prize, at, act, a...\n",
              "1995                         [dark, mofo, number, crunch]\n",
              "1996    [david, petraeu, say, australia, must, be, fir...\n",
              "1997    [driverless, car, in, australia, face, challen...\n",
              "1998          [drug, compani, critici, over, price, hike]\n",
              "Name: tokens, Length: 1999, dtype: object"
            ]
          },
          "metadata": {},
          "execution_count": 57
        }
      ]
    },
    {
      "cell_type": "code",
      "source": [
        "# TODO: Compute the BOW of the preprocessed data\n",
        "vectorizer = CountVectorizer(analyzer=lambda x: x)\n",
        "vectorizer.fit(df['tokens'])\n",
        "bow = vectorizer.transform(df['tokens'])\n",
        "print(bow.shape)"
      ],
      "metadata": {
        "colab": {
          "base_uri": "https://localhost:8080/"
        },
        "id": "ceuzTk2pRlCN",
        "outputId": "d2be4005-1cfd-4f83-b678-669a3fd763f5"
      },
      "execution_count": 58,
      "outputs": [
        {
          "output_type": "stream",
          "name": "stdout",
          "text": [
            "(1999, 4348)\n"
          ]
        }
      ]
    },
    {
      "cell_type": "code",
      "source": [
        "# TODO: Compute the TF using the BOW\n",
        "from sklearn.feature_extraction.text import TfidfVectorizer\n",
        "vectorizer = TfidfVectorizer(analyzer=lambda x:x)\n",
        "vectorizer.fit(df['Stem'])\n",
        "tfidf = vectorizer.transform(df['Stem'])\n",
        "tfidf_array = tfidf.toarray()\n",
        "all_zeros = (tfidf_array == 0).all()\n",
        "if not all_zeros:\n",
        "  print(tfidf_array[0])"
      ],
      "metadata": {
        "id": "x3fzK87UXItT"
      },
      "execution_count": null,
      "outputs": []
    },
    {
      "cell_type": "code",
      "source": [
        "#3. Plagiarism checker \n",
        "file = open('A1.txt', 'r') \n",
        "A1 = file.readlines()[0]\n",
        "\n",
        "file = open('Asource.txt', 'r') \n",
        "A0 = file.readlines()[0]\n",
        "\n",
        "file = open('B1.txt', 'r') \n",
        "B1 = file.readlines()[0]\n",
        "\n",
        "file = open('Bsource.txt', 'r') \n",
        "B0 = file.readlines()[0]\n",
        "\n",
        "file = open('C1.txt', 'r') \n",
        "C1 = file.readlines()[0]\n",
        "\n",
        "file = open('Csource.txt', 'r') \n",
        "C0 = file.readlines()[0]\n",
        "\n",
        "file = open('D1.txt', 'r') \n",
        "D1 = file.readlines()[0]\n",
        "\n",
        "file = open('D2.txt', 'r') \n",
        "D2 = file.readlines()[0]\n",
        "\n",
        "file = open('Dsource.txt', 'r') \n",
        "D0 = file.readlines()[0]"
      ],
      "metadata": {
        "id": "RAcZyrOuIo92"
      },
      "execution_count": 63,
      "outputs": []
    },
    {
      "cell_type": "code",
      "source": [
        "alldata = [A0, A1, B0, B1, C0, C1, D0, D1, D2]"
      ],
      "metadata": {
        "id": "bnw6GRdwZree"
      },
      "execution_count": 64,
      "outputs": []
    },
    {
      "cell_type": "code",
      "source": [
        "#TODO: Compute tf-idf for all documents\n",
        "from sklearn.feature_extraction.text import TfidfVectorizer\n",
        "\n",
        "tfvect = TfidfVectorizer()\n",
        "tfvect.fit(alldata)\n",
        "\n",
        "tfidf = tfvect.fit_transform(alldata).toarray()\n",
        "\n",
        "TFIDFA = tfvect.transform([A0, A1]).toarray()\n",
        "TFIDFB = tfvect.transform([B0, B1]).toarray()\n",
        "TFIDFC = tfvect.transform([C0, C1]).toarray()\n",
        "TFIDFD = tfvect.transform([D0, D1, D2]).toarray()"
      ],
      "metadata": {
        "id": "ZYMuk0oeZse9"
      },
      "execution_count": 65,
      "outputs": []
    },
    {
      "cell_type": "code",
      "source": [
        "#TODO: pair-wise similarity\n",
        "\n",
        "similarityAA = cosine_similarity(TFIDFA, TFIDFA)\n",
        "similarityBB = cosine_similarity(TFIDFB, TFIDFB)\n",
        "similarityCC = cosine_similarity(TFIDFC, TFIDFC)\n",
        "similarityDD = cosine_similarity(TFIDFD, TFIDFD)\n",
        "\n",
        "similarityAll = cosine_similarity(tfidf, tfidf)"
      ],
      "metadata": {
        "id": "7TILrGDMaLdd"
      },
      "execution_count": 66,
      "outputs": []
    },
    {
      "cell_type": "code",
      "source": [
        "similarityAA"
      ],
      "metadata": {
        "colab": {
          "base_uri": "https://localhost:8080/"
        },
        "id": "6wP1XkUhaQ_h",
        "outputId": "62b76339-611f-444a-fcb6-48219dff69b7"
      },
      "execution_count": 67,
      "outputs": [
        {
          "output_type": "execute_result",
          "data": {
            "text/plain": [
              "array([[1.        , 0.81898863],\n",
              "       [0.81898863, 1.        ]])"
            ]
          },
          "metadata": {},
          "execution_count": 67
        }
      ]
    },
    {
      "cell_type": "code",
      "source": [
        "similarityBB"
      ],
      "metadata": {
        "colab": {
          "base_uri": "https://localhost:8080/"
        },
        "id": "UtUv4CktaS6h",
        "outputId": "942a9327-c285-4303-fa6b-c00df903a0b9"
      },
      "execution_count": 68,
      "outputs": [
        {
          "output_type": "execute_result",
          "data": {
            "text/plain": [
              "array([[1.        , 0.63747903],\n",
              "       [0.63747903, 1.        ]])"
            ]
          },
          "metadata": {},
          "execution_count": 68
        }
      ]
    },
    {
      "cell_type": "code",
      "source": [
        "similarityCC"
      ],
      "metadata": {
        "colab": {
          "base_uri": "https://localhost:8080/"
        },
        "id": "nkuBHRGVaS9G",
        "outputId": "61a701c7-6f5c-4ae5-b232-cc2141a4d9a8"
      },
      "execution_count": 69,
      "outputs": [
        {
          "output_type": "execute_result",
          "data": {
            "text/plain": [
              "array([[1.        , 0.85723864],\n",
              "       [0.85723864, 1.        ]])"
            ]
          },
          "metadata": {},
          "execution_count": 69
        }
      ]
    },
    {
      "cell_type": "code",
      "source": [
        "similarityDD"
      ],
      "metadata": {
        "colab": {
          "base_uri": "https://localhost:8080/"
        },
        "id": "kwNPSALiaS_-",
        "outputId": "94083cff-a909-47c0-9d01-105f25d4835e"
      },
      "execution_count": 70,
      "outputs": [
        {
          "output_type": "execute_result",
          "data": {
            "text/plain": [
              "array([[1.        , 0.92754461, 0.45775827],\n",
              "       [0.92754461, 1.        , 0.47179638],\n",
              "       [0.45775827, 0.47179638, 1.        ]])"
            ]
          },
          "metadata": {},
          "execution_count": 70
        }
      ]
    },
    {
      "cell_type": "code",
      "source": [
        "similarityAll"
      ],
      "metadata": {
        "colab": {
          "base_uri": "https://localhost:8080/"
        },
        "id": "qRzxBS6NaTDH",
        "outputId": "a0650260-a564-46fc-b78a-834b8d0ce3b8"
      },
      "execution_count": 71,
      "outputs": [
        {
          "output_type": "execute_result",
          "data": {
            "text/plain": [
              "array([[1.        , 0.81898863, 0.10748497, 0.12736224, 0.24491604,\n",
              "        0.29501242, 0.2530779 , 0.2146434 , 0.18585492],\n",
              "       [0.81898863, 1.        , 0.10940658, 0.12644471, 0.21239125,\n",
              "        0.25583485, 0.214717  , 0.17937458, 0.16807197],\n",
              "       [0.10748497, 0.10940658, 1.        , 0.63747903, 0.08804551,\n",
              "        0.09372089, 0.08509508, 0.07946359, 0.10627147],\n",
              "       [0.12736224, 0.12644471, 0.63747903, 1.        , 0.08730757,\n",
              "        0.08893992, 0.12527568, 0.1207279 , 0.12910021],\n",
              "       [0.24491604, 0.21239125, 0.08804551, 0.08730757, 1.        ,\n",
              "        0.85723864, 0.20151171, 0.16200275, 0.14447728],\n",
              "       [0.29501242, 0.25583485, 0.09372089, 0.08893992, 0.85723864,\n",
              "        1.        , 0.22326634, 0.1806631 , 0.1558733 ],\n",
              "       [0.2530779 , 0.214717  , 0.08509508, 0.12527568, 0.20151171,\n",
              "        0.22326634, 1.        , 0.92754461, 0.45775827],\n",
              "       [0.2146434 , 0.17937458, 0.07946359, 0.1207279 , 0.16200275,\n",
              "        0.1806631 , 0.92754461, 1.        , 0.47179638],\n",
              "       [0.18585492, 0.16807197, 0.10627147, 0.12910021, 0.14447728,\n",
              "        0.1558733 , 0.45775827, 0.47179638, 1.        ]])"
            ]
          },
          "metadata": {},
          "execution_count": 71
        }
      ]
    },
    {
      "cell_type": "code",
      "source": [
        "import matplotlib.pyplot as plt\n",
        "\n",
        "#TODO: show pair-wise similarity\n",
        "pred_plagiarism = similarityAll>0.2\n",
        "\n",
        "def plot_similarity(similarity_matrix):\n",
        "  plt.figure(figsize=(8, 6))\n",
        "  plt.imshow(similarity_matrix, cmap='hot', interpolation='nearest')\n",
        "  plt.colorbar()\n",
        "  plt.title('Pairwise Similarity')\n",
        "  plt.xlabel('Document Index')\n",
        "  plt.ylabel('Document Index')\n",
        "  plt.show()"
      ],
      "metadata": {
        "id": "hnfAgUIPaTFF"
      },
      "execution_count": 72,
      "outputs": []
    },
    {
      "cell_type": "code",
      "source": [
        "plot_similarity(similarityAll)"
      ],
      "metadata": {
        "colab": {
          "base_uri": "https://localhost:8080/",
          "height": 564
        },
        "id": "QuXQAJrkbcwA",
        "outputId": "facb144a-df20-4117-e3cf-08f91676ffae"
      },
      "execution_count": 73,
      "outputs": [
        {
          "output_type": "display_data",
          "data": {
            "text/plain": [
              "<Figure size 800x600 with 2 Axes>"
            ],
            "image/png": "[encoded data removed]"
          },
          "metadata": {}
        }
      ]
    },
    {
      "cell_type": "code",
      "source": [
        "import numpy as np\n",
        "real_plagiarism = np.zeros((9,9))"
      ],
      "metadata": {
        "id": "gj95UNi2bXHP"
      },
      "execution_count": 74,
      "outputs": []
    },
    {
      "cell_type": "code",
      "source": [
        "real_plagiarism[0:2, 0:2] = 1\n",
        "real_plagiarism[2:4, 2:4] = 1\n",
        "real_plagiarism[4:6, 4:6] = 1\n",
        "real_plagiarism[6:9, 6:9] = 1"
      ],
      "metadata": {
        "id": "NyPy2JtMbt_9"
      },
      "execution_count": 76,
      "outputs": []
    },
    {
      "cell_type": "code",
      "source": [
        "import matplotlib.pyplot as plt\n",
        "plt.imshow(real_plagiarism)\n",
        "plt.show()"
      ],
      "metadata": {
        "colab": {
          "base_uri": "https://localhost:8080/",
          "height": 430
        },
        "id": "KLG-THvlbXN0",
        "outputId": "53a3dc92-040c-4fe2-8c56-800b8358452c"
      },
      "execution_count": 77,
      "outputs": [
        {
          "output_type": "display_data",
          "data": {
            "text/plain": [
              "<Figure size 640x480 with 1 Axes>"
            ],
            "image/png": "[encoded data removed]"
          },
          "metadata": {}
        }
      ]
    },
    {
      "cell_type": "code",
      "source": [
        "#III. Text Classification "
      ],
      "metadata": {
        "id": "zqdoiGSeIpAC"
      },
      "execution_count": null,
      "outputs": []
    },
    {
      "cell_type": "code",
      "source": [
        "import nltk\n",
        "import numpy as np\n",
        "import pandas as pd\n",
        "from sklearn.feature_extraction.text import CountVectorizer\n",
        "\n",
        "# TODO: Load the dataset \n",
        "df=pd.read_csv(\"headlines.csv\")\n",
        "\n",
        "# TODO: explore the dataset\n",
        "df.info()"
      ],
      "metadata": {
        "colab": {
          "base_uri": "https://localhost:8080/"
        },
        "id": "6vo0bb97XflX",
        "outputId": "5b0bc815-edd9-4386-8432-6cd1f21a7c7b"
      },
      "execution_count": 62,
      "outputs": [
        {
          "output_type": "stream",
          "name": "stdout",
          "text": [
            "<class 'pandas.core.frame.DataFrame'>\n",
            "RangeIndex: 1999 entries, 0 to 1998\n",
            "Data columns (total 2 columns):\n",
            " #   Column         Non-Null Count  Dtype \n",
            "---  ------         --------------  ----- \n",
            " 0   publish_date   1999 non-null   int64 \n",
            " 1   headline_text  1999 non-null   object\n",
            "dtypes: int64(1), object(1)\n",
            "memory usage: 31.4+ KB\n"
          ]
        }
      ]
    },
    {
      "cell_type": "code",
      "source": [
        "# TODO: Perform preprocessing over all the text\n",
        "df.head(10)"
      ],
      "metadata": {
        "colab": {
          "base_uri": "https://localhost:8080/",
          "height": 363
        },
        "id": "Ri1GI0N1Xfob",
        "outputId": "01f52a25-322f-40b8-daae-49bc33a583d0"
      },
      "execution_count": 78,
      "outputs": [
        {
          "output_type": "execute_result",
          "data": {
            "text/plain": [
              "   publish_date                                      headline_text\n",
              "0      20170721  algorithms can make decisions on behalf of fed...\n",
              "1      20170721  andrew forrests fmg to appeal pilbara native t...\n",
              "2      20170721                           a rural mural in thallan\n",
              "3      20170721  australia church risks becoming haven for abusers\n",
              "4      20170721  australian company usgfx embroiled in shanghai...\n",
              "5      20170721  australia suffers shock loss in womens world c...\n",
              "6      20170721                                           big rigs\n",
              "7      20170721  boy charged in connection with supermarket syr...\n",
              "8      20170721  breaking bad creator vince gilligan on success...\n",
              "9      20170721  breaking bad creator vince gilligan on walter ..."
            ],
            "text/html": [
              "\n",
              "  <div id=\"df-e4917f80-1feb-487d-b5a3-ce292d4de0db\">\n",
              "    <div class=\"colab-df-container\">\n",
              "      <div>\n",
              "<style scoped>\n",
              "    .dataframe tbody tr th:only-of-type {\n",
              "        vertical-align: middle;\n",
              "    }\n",
              "\n",
              "    .dataframe tbody tr th {\n",
              "        vertical-align: top;\n",
              "    }\n",
              "\n",
              "    .dataframe thead th {\n",
              "        text-align: right;\n",
              "    }\n",
              "</style>\n",
              "<table border=\"1\" class=\"dataframe\">\n",
              "  <thead>\n",
              "    <tr style=\"text-align: right;\">\n",
              "      <th></th>\n",
              "      <th>publish_date</th>\n",
              "      <th>headline_text</th>\n",
              "    </tr>\n",
              "  </thead>\n",
              "  <tbody>\n",
              "    <tr>\n",
              "      <th>0</th>\n",
              "      <td>20170721</td>\n",
              "      <td>algorithms can make decisions on behalf of fed...</td>\n",
              "    </tr>\n",
              "    <tr>\n",
              "      <th>1</th>\n",
              "      <td>20170721</td>\n",
              "      <td>andrew forrests fmg to appeal pilbara native t...</td>\n",
              "    </tr>\n",
              "    <tr>\n",
              "      <th>2</th>\n",
              "      <td>20170721</td>\n",
              "      <td>a rural mural in thallan</td>\n",
              "    </tr>\n",
              "    <tr>\n",
              "      <th>3</th>\n",
              "      <td>20170721</td>\n",
              "      <td>australia church risks becoming haven for abusers</td>\n",
              "    </tr>\n",
              "    <tr>\n",
              "      <th>4</th>\n",
              "      <td>20170721</td>\n",
              "      <td>australian company usgfx embroiled in shanghai...</td>\n",
              "    </tr>\n",
              "    <tr>\n",
              "      <th>5</th>\n",
              "      <td>20170721</td>\n",
              "      <td>australia suffers shock loss in womens world c...</td>\n",
              "    </tr>\n",
              "    <tr>\n",
              "      <th>6</th>\n",
              "      <td>20170721</td>\n",
              "      <td>big rigs</td>\n",
              "    </tr>\n",
              "    <tr>\n",
              "      <th>7</th>\n",
              "      <td>20170721</td>\n",
              "      <td>boy charged in connection with supermarket syr...</td>\n",
              "    </tr>\n",
              "    <tr>\n",
              "      <th>8</th>\n",
              "      <td>20170721</td>\n",
              "      <td>breaking bad creator vince gilligan on success...</td>\n",
              "    </tr>\n",
              "    <tr>\n",
              "      <th>9</th>\n",
              "      <td>20170721</td>\n",
              "      <td>breaking bad creator vince gilligan on walter ...</td>\n",
              "    </tr>\n",
              "  </tbody>\n",
              "</table>\n",
              "</div>\n",
              "      <button class=\"colab-df-convert\" onclick=\"convertToInteractive('df-e4917f80-1feb-487d-b5a3-ce292d4de0db')\"\n",
              "              title=\"Convert this dataframe to an interactive table.\"\n",
              "              style=\"display:none;\">\n",
              "        \n",
              "  <svg xmlns=\"http://www.w3.org/2000/svg\" height=\"24px\"viewBox=\"0 0 24 24\"\n",
              "       width=\"24px\">\n",
              "    <path d=\"M0 0h24v24H0V0z\" fill=\"none\"/>\n",
              "    <path d=\"M18.56 5.44l.94 2.06.94-2.06 2.06-.94-2.06-.94-.94-2.06-.94 2.06-2.06.94zm-11 1L8.5 8.5l.94-2.06 2.06-.94-2.06-.94L8.5 2.5l-.94 2.06-2.06.94zm10 10l.94 2.06.94-2.06 2.06-.94-2.06-.94-.94-2.06-.94 2.06-2.06.94z\"/><path d=\"M17.41 7.96l-1.37-1.37c-.4-.4-.92-.59-1.43-.59-.52 0-1.04.2-1.43.59L10.3 9.45l-7.72 7.72c-.78.78-.78 2.05 0 2.83L4 21.41c.39.39.9.59 1.41.59.51 0 1.02-.2 1.41-.59l7.78-7.78 2.81-2.81c.8-.78.8-2.07 0-2.86zM5.41 20L4 18.59l7.72-7.72 1.47 1.35L5.41 20z\"/>\n",
              "  </svg>\n",
              "      </button>\n",
              "      \n",
              "  <style>\n",
              "    .colab-df-container {\n",
              "      display:flex;\n",
              "      flex-wrap:wrap;\n",
              "      gap: 12px;\n",
              "    }\n",
              "\n",
              "    .colab-df-convert {\n",
              "      background-color: #E8F0FE;\n",
              "      border: none;\n",
              "      border-radius: 50%;\n",
              "      cursor: pointer;\n",
              "      display: none;\n",
              "      fill: #1967D2;\n",
              "      height: 32px;\n",
              "      padding: 0 0 0 0;\n",
              "      width: 32px;\n",
              "    }\n",
              "\n",
              "    .colab-df-convert:hover {\n",
              "      background-color: #E2EBFA;\n",
              "      box-shadow: 0px 1px 2px rgba(60, 64, 67, 0.3), 0px 1px 3px 1px rgba(60, 64, 67, 0.15);\n",
              "      fill: #174EA6;\n",
              "    }\n",
              "\n",
              "    [theme=dark] .colab-df-convert {\n",
              "      background-color: #3B4455;\n",
              "      fill: #D2E3FC;\n",
              "    }\n",
              "\n",
              "    [theme=dark] .colab-df-convert:hover {\n",
              "      background-color: #434B5C;\n",
              "      box-shadow: 0px 1px 3px 1px rgba(0, 0, 0, 0.15);\n",
              "      filter: drop-shadow(0px 1px 2px rgba(0, 0, 0, 0.3));\n",
              "      fill: #FFFFFF;\n",
              "    }\n",
              "  </style>\n",
              "\n",
              "      <script>\n",
              "        const buttonEl =\n",
              "          document.querySelector('#df-e4917f80-1feb-487d-b5a3-ce292d4de0db button.colab-df-convert');\n",
              "        buttonEl.style.display =\n",
              "          google.colab.kernel.accessAllowed ? 'block' : 'none';\n",
              "\n",
              "        async function convertToInteractive(key) {\n",
              "          const element = document.querySelector('#df-e4917f80-1feb-487d-b5a3-ce292d4de0db');\n",
              "          const dataTable =\n",
              "            await google.colab.kernel.invokeFunction('convertToInteractive',\n",
              "                                                     [key], {});\n",
              "          if (!dataTable) return;\n",
              "\n",
              "          const docLinkHtml = 'Like what you see? Visit the ' +\n",
              "            '<a target=\"_blank\" href=https://colab.research.google.com/notebooks/data_table.ipynb>data table notebook</a>'\n",
              "            + ' to learn more about interactive tables.';\n",
              "          element.innerHTML = '';\n",
              "          dataTable['output_type'] = 'display_data';\n",
              "          await google.colab.output.renderOutput(dataTable, element);\n",
              "          const docLink = document.createElement('div');\n",
              "          docLink.innerHTML = docLinkHtml;\n",
              "          element.appendChild(docLink);\n",
              "        }\n",
              "      </script>\n",
              "    </div>\n",
              "  </div>\n",
              "  "
            ]
          },
          "metadata": {},
          "execution_count": 78
        }
      ]
    },
    {
      "cell_type": "code",
      "source": [
        "#IV. Topic Modelling \n",
        "# TODO: import needed libraries\n",
        "import numpy as np\n",
        "import pandas as pd\n",
        "\n",
        "# TODO: Load the dataset \n",
        "df=pd.read_csv(\"random_headlines.csv\")\n",
        "df.head(10)"
      ],
      "metadata": {
        "colab": {
          "base_uri": "https://localhost:8080/",
          "height": 363
        },
        "id": "nYuqWivJXfy0",
        "outputId": "353a88f3-ed4a-426f-d420-82750e97dd3d"
      },
      "execution_count": 79,
      "outputs": [
        {
          "output_type": "execute_result",
          "data": {
            "text/plain": [
              "   publish_date                                headline_text\n",
              "0      20120305        ute driver hurt in intersection crash\n",
              "1      20081128                 6yo dies in cycling accident\n",
              "2      20090325                bumper olive harvest expected\n",
              "3      20100201           replica replaces northernmost sign\n",
              "4      20080225                 woods targets perfect season\n",
              "5      20091120   leckie salvages dramatic draw for adelaide\n",
              "6      20031024          group to gauge rail services future\n",
              "7      20130304         anti hunting rally still going ahead\n",
              "8      20081115          dr congo refugees receive first aid\n",
              "9      20130304  thailand signs agreement with muslim rebels"
            ],
            "text/html": [
              "\n",
              "  <div id=\"df-f32b40cc-d752-4bb1-8cdf-ff460a379402\">\n",
              "    <div class=\"colab-df-container\">\n",
              "      <div>\n",
              "<style scoped>\n",
              "    .dataframe tbody tr th:only-of-type {\n",
              "        vertical-align: middle;\n",
              "    }\n",
              "\n",
              "    .dataframe tbody tr th {\n",
              "        vertical-align: top;\n",
              "    }\n",
              "\n",
              "    .dataframe thead th {\n",
              "        text-align: right;\n",
              "    }\n",
              "</style>\n",
              "<table border=\"1\" class=\"dataframe\">\n",
              "  <thead>\n",
              "    <tr style=\"text-align: right;\">\n",
              "      <th></th>\n",
              "      <th>publish_date</th>\n",
              "      <th>headline_text</th>\n",
              "    </tr>\n",
              "  </thead>\n",
              "  <tbody>\n",
              "    <tr>\n",
              "      <th>0</th>\n",
              "      <td>20120305</td>\n",
              "      <td>ute driver hurt in intersection crash</td>\n",
              "    </tr>\n",
              "    <tr>\n",
              "      <th>1</th>\n",
              "      <td>20081128</td>\n",
              "      <td>6yo dies in cycling accident</td>\n",
              "    </tr>\n",
              "    <tr>\n",
              "      <th>2</th>\n",
              "      <td>20090325</td>\n",
              "      <td>bumper olive harvest expected</td>\n",
              "    </tr>\n",
              "    <tr>\n",
              "      <th>3</th>\n",
              "      <td>20100201</td>\n",
              "      <td>replica replaces northernmost sign</td>\n",
              "    </tr>\n",
              "    <tr>\n",
              "      <th>4</th>\n",
              "      <td>20080225</td>\n",
              "      <td>woods targets perfect season</td>\n",
              "    </tr>\n",
              "    <tr>\n",
              "      <th>5</th>\n",
              "      <td>20091120</td>\n",
              "      <td>leckie salvages dramatic draw for adelaide</td>\n",
              "    </tr>\n",
              "    <tr>\n",
              "      <th>6</th>\n",
              "      <td>20031024</td>\n",
              "      <td>group to gauge rail services future</td>\n",
              "    </tr>\n",
              "    <tr>\n",
              "      <th>7</th>\n",
              "      <td>20130304</td>\n",
              "      <td>anti hunting rally still going ahead</td>\n",
              "    </tr>\n",
              "    <tr>\n",
              "      <th>8</th>\n",
              "      <td>20081115</td>\n",
              "      <td>dr congo refugees receive first aid</td>\n",
              "    </tr>\n",
              "    <tr>\n",
              "      <th>9</th>\n",
              "      <td>20130304</td>\n",
              "      <td>thailand signs agreement with muslim rebels</td>\n",
              "    </tr>\n",
              "  </tbody>\n",
              "</table>\n",
              "</div>\n",
              "      <button class=\"colab-df-convert\" onclick=\"convertToInteractive('df-f32b40cc-d752-4bb1-8cdf-ff460a379402')\"\n",
              "              title=\"Convert this dataframe to an interactive table.\"\n",
              "              style=\"display:none;\">\n",
              "        \n",
              "  <svg xmlns=\"http://www.w3.org/2000/svg\" height=\"24px\"viewBox=\"0 0 24 24\"\n",
              "       width=\"24px\">\n",
              "    <path d=\"M0 0h24v24H0V0z\" fill=\"none\"/>\n",
              "    <path d=\"M18.56 5.44l.94 2.06.94-2.06 2.06-.94-2.06-.94-.94-2.06-.94 2.06-2.06.94zm-11 1L8.5 8.5l.94-2.06 2.06-.94-2.06-.94L8.5 2.5l-.94 2.06-2.06.94zm10 10l.94 2.06.94-2.06 2.06-.94-2.06-.94-.94-2.06-.94 2.06-2.06.94z\"/><path d=\"M17.41 7.96l-1.37-1.37c-.4-.4-.92-.59-1.43-.59-.52 0-1.04.2-1.43.59L10.3 9.45l-7.72 7.72c-.78.78-.78 2.05 0 2.83L4 21.41c.39.39.9.59 1.41.59.51 0 1.02-.2 1.41-.59l7.78-7.78 2.81-2.81c.8-.78.8-2.07 0-2.86zM5.41 20L4 18.59l7.72-7.72 1.47 1.35L5.41 20z\"/>\n",
              "  </svg>\n",
              "      </button>\n",
              "      \n",
              "  <style>\n",
              "    .colab-df-container {\n",
              "      display:flex;\n",
              "      flex-wrap:wrap;\n",
              "      gap: 12px;\n",
              "    }\n",
              "\n",
              "    .colab-df-convert {\n",
              "      background-color: #E8F0FE;\n",
              "      border: none;\n",
              "      border-radius: 50%;\n",
              "      cursor: pointer;\n",
              "      display: none;\n",
              "      fill: #1967D2;\n",
              "      height: 32px;\n",
              "      padding: 0 0 0 0;\n",
              "      width: 32px;\n",
              "    }\n",
              "\n",
              "    .colab-df-convert:hover {\n",
              "      background-color: #E2EBFA;\n",
              "      box-shadow: 0px 1px 2px rgba(60, 64, 67, 0.3), 0px 1px 3px 1px rgba(60, 64, 67, 0.15);\n",
              "      fill: #174EA6;\n",
              "    }\n",
              "\n",
              "    [theme=dark] .colab-df-convert {\n",
              "      background-color: #3B4455;\n",
              "      fill: #D2E3FC;\n",
              "    }\n",
              "\n",
              "    [theme=dark] .colab-df-convert:hover {\n",
              "      background-color: #434B5C;\n",
              "      box-shadow: 0px 1px 3px 1px rgba(0, 0, 0, 0.15);\n",
              "      filter: drop-shadow(0px 1px 2px rgba(0, 0, 0, 0.3));\n",
              "      fill: #FFFFFF;\n",
              "    }\n",
              "  </style>\n",
              "\n",
              "      <script>\n",
              "        const buttonEl =\n",
              "          document.querySelector('#df-f32b40cc-d752-4bb1-8cdf-ff460a379402 button.colab-df-convert');\n",
              "        buttonEl.style.display =\n",
              "          google.colab.kernel.accessAllowed ? 'block' : 'none';\n",
              "\n",
              "        async function convertToInteractive(key) {\n",
              "          const element = document.querySelector('#df-f32b40cc-d752-4bb1-8cdf-ff460a379402');\n",
              "          const dataTable =\n",
              "            await google.colab.kernel.invokeFunction('convertToInteractive',\n",
              "                                                     [key], {});\n",
              "          if (!dataTable) return;\n",
              "\n",
              "          const docLinkHtml = 'Like what you see? Visit the ' +\n",
              "            '<a target=\"_blank\" href=https://colab.research.google.com/notebooks/data_table.ipynb>data table notebook</a>'\n",
              "            + ' to learn more about interactive tables.';\n",
              "          element.innerHTML = '';\n",
              "          dataTable['output_type'] = 'display_data';\n",
              "          await google.colab.output.renderOutput(dataTable, element);\n",
              "          const docLink = document.createElement('div');\n",
              "          docLink.innerHTML = docLinkHtml;\n",
              "          element.appendChild(docLink);\n",
              "        }\n",
              "      </script>\n",
              "    </div>\n",
              "  </div>\n",
              "  "
            ]
          },
          "metadata": {},
          "execution_count": 79
        }
      ]
    },
    {
      "cell_type": "code",
      "source": [
        "df.info()"
      ],
      "metadata": {
        "colab": {
          "base_uri": "https://localhost:8080/"
        },
        "id": "Y5kVs4NSdFz9",
        "outputId": "4fdf408d-54ac-4668-ae12-9397188fd22c"
      },
      "execution_count": 80,
      "outputs": [
        {
          "output_type": "stream",
          "name": "stdout",
          "text": [
            "<class 'pandas.core.frame.DataFrame'>\n",
            "RangeIndex: 20000 entries, 0 to 19999\n",
            "Data columns (total 2 columns):\n",
            " #   Column         Non-Null Count  Dtype \n",
            "---  ------         --------------  ----- \n",
            " 0   publish_date   20000 non-null  int64 \n",
            " 1   headline_text  20000 non-null  object\n",
            "dtypes: int64(1), object(1)\n",
            "memory usage: 312.6+ KB\n"
          ]
        }
      ]
    },
    {
      "cell_type": "code",
      "source": [
        "import pandas as pd\n",
        "import nltk\n",
        "from nltk.corpus import stopwords\n",
        "from nltk.tokenize import word_tokenize\n",
        "from nltk.stem import PorterStemmer, WordNetLemmatizer\n",
        "import string"
      ],
      "metadata": {
        "id": "xs3M2csTdF_B"
      },
      "execution_count": 81,
      "outputs": []
    },
    {
      "cell_type": "code",
      "source": [
        "df['lowercase'] = df['headline_text'].str.lower()\n",
        "df['tokens'] = df['lowercase'].apply(word_tokenize)\n",
        "df['no_punctuation'] = df['tokens'].apply(lambda tokens: [token for token in tokens if token not in string.punctuation])\n",
        "stopwords_set = set(stopwords.words('english'))\n",
        "df['no_stopwords'] = df['no_punctuation'].apply(lambda tokens: [token for token in tokens if token not in stopwords_set])\n",
        "stemmer = PorterStemmer()\n",
        "df['stemmed'] = df['no_stopwords'].apply(lambda tokens: [stemmer.stem(token) for token in tokens])\n",
        "df['stemmed']"
      ],
      "metadata": {
        "colab": {
          "base_uri": "https://localhost:8080/"
        },
        "id": "H8W5E_TrdGEY",
        "outputId": "311f23ba-3e0d-49ad-eba6-f446996d5c05"
      },
      "execution_count": 82,
      "outputs": [
        {
          "output_type": "execute_result",
          "data": {
            "text/plain": [
              "0                    [ute, driver, hurt, intersect, crash]\n",
              "1                                  [6yo, die, cycl, accid]\n",
              "2                          [bumper, oliv, harvest, expect]\n",
              "3                    [replica, replac, northernmost, sign]\n",
              "4                          [wood, target, perfect, season]\n",
              "                               ...                        \n",
              "19995               [judg, attack, walkinshaw, run, arrow]\n",
              "19996           [polish, govt, collaps, elect, held, next]\n",
              "19997                              [drum, friday, may, 29]\n",
              "19998            [winterbottom, bathurst, provision, pole]\n",
              "19999    [pull, pork, pawpaw, salad, local, success, st...\n",
              "Name: stemmed, Length: 20000, dtype: object"
            ]
          },
          "metadata": {},
          "execution_count": 82
        }
      ]
    },
    {
      "cell_type": "code",
      "source": [
        "!pip install gensim"
      ],
      "metadata": {
        "colab": {
          "base_uri": "https://localhost:8080/"
        },
        "id": "5CGFejlBfwkC",
        "outputId": "051bfd72-f286-4d9f-f7b8-efe0489d0fde"
      },
      "execution_count": 83,
      "outputs": [
        {
          "output_type": "stream",
          "name": "stdout",
          "text": [
            "Looking in indexes: https://pypi.org/simple, https://us-python.pkg.dev/colab-wheels/public/simple/\n",
            "Requirement already satisfied: gensim in /usr/local/lib/python3.10/dist-packages (4.3.1)\n",
            "Requirement already satisfied: numpy>=1.18.5 in /usr/local/lib/python3.10/dist-packages (from gensim) (1.22.4)\n",
            "Requirement already satisfied: scipy>=1.7.0 in /usr/local/lib/python3.10/dist-packages (from gensim) (1.10.1)\n",
            "Requirement already satisfied: smart-open>=1.8.1 in /usr/local/lib/python3.10/dist-packages (from gensim) (6.3.0)\n"
          ]
        }
      ]
    },
    {
      "cell_type": "code",
      "source": [
        "# TODO: Compute the BOW using Gensim\n",
        "from gensim.corpora import Dictionary\n",
        "lemmatizer = WordNetLemmatizer()\n",
        "df['lemmatized'] = df['no_stopwords'].apply(lambda tokens: [lemmatizer.lemmatize(token)for token in tokens])\n",
        "dictionary = Dictionary(df['stemmed'])\n",
        "dictionary.filter_extremes(no_below=5, no_above=0.5)\n",
        "df['bow'] = df['stemmed'].apply(lambda tokens: dictionary.doc2bow(tokens))\n",
        "df['bow']"
      ],
      "metadata": {
        "colab": {
          "base_uri": "https://localhost:8080/"
        },
        "id": "oXkHeEq7fwrL",
        "outputId": "54130f0f-9fc6-4d12-baec-5820f461ac10"
      },
      "execution_count": 87,
      "outputs": [
        {
          "output_type": "execute_result",
          "data": {
            "text/plain": [
              "0                         [(0, 1), (1, 1), (2, 1), (3, 1)]\n",
              "1                                 [(4, 1), (5, 1), (6, 1)]\n",
              "2                                 [(7, 1), (8, 1), (9, 1)]\n",
              "3                                       [(10, 1), (11, 1)]\n",
              "4                     [(12, 1), (13, 1), (14, 1), (15, 1)]\n",
              "                               ...                        \n",
              "19995                        [(94, 1), (612, 1), (791, 1)]\n",
              "19996    [(306, 1), (502, 1), (1125, 1), (1279, 1), (16...\n",
              "19997            [(122, 1), (362, 1), (435, 1), (1929, 1)]\n",
              "19998                                [(129, 1), (2498, 1)]\n",
              "19999    [(767, 1), (1327, 1), (1500, 1), (1927, 1), (2...\n",
              "Name: bow, Length: 20000, dtype: object"
            ]
          },
          "metadata": {},
          "execution_count": 87
        }
      ]
    },
    {
      "cell_type": "code",
      "source": [
        "# TODO: Compute TF-IDF\n",
        "from gensim.models import TfidfModel\n",
        "dictionary = Dictionary(df['stemmed'])\n",
        "dictionary.filter_extremes(no_below=5, no_above=0.5)\n",
        "df['bow'] = df['stemmed'].apply(lambda tokens: dictionary.doc2bow(tokens))\n",
        "bow_corpus = df['bow'].tolist()\n",
        "tfidf_model = TfidfModel(bow_corpus)\n",
        "df['tfidf'] = df['bow'].apply(lambda bow: tfidf_model[bow])\n",
        "df['tfidf']"
      ],
      "metadata": {
        "colab": {
          "base_uri": "https://localhost:8080/"
        },
        "id": "K9cWpNElhJrh",
        "outputId": "bed09d29-fa04-4592-a6a2-64f5f550322b"
      },
      "execution_count": 89,
      "outputs": [
        {
          "output_type": "execute_result",
          "data": {
            "text/plain": [
              "0        [(0, 0.38380472505678387), (1, 0.4408152091819...\n",
              "1        [(4, 0.565040562691219), (5, 0.678282623325040...\n",
              "2        [(7, 0.4778523954688469), (8, 0.56145873585743...\n",
              "3        [(10, 0.7596694993542321), (11, 0.650309350809...\n",
              "4        [(12, 0.5937887452228604), (13, 0.432499245079...\n",
              "                               ...                        \n",
              "19995    [(94, 0.6788936377183876), (612, 0.47999246040...\n",
              "19996    [(306, 0.3169859350661769), (502, 0.2621260609...\n",
              "19997    [(122, 0.37474224836119696), (362, 0.485431117...\n",
              "19998    [(129, 0.6582992963848873), (2498, 0.752756292...\n",
              "19999    [(767, 0.43161038088504416), (1327, 0.42560245...\n",
              "Name: tfidf, Length: 20000, dtype: object"
            ]
          },
          "metadata": {},
          "execution_count": 89
        }
      ]
    },
    {
      "cell_type": "code",
      "source": [
        "# TODO: Compute LSA\n",
        "from gensim.models import LsiModel\n",
        "df['tfidf'] = df['bow'].apply(lambda bow: tfidf_model[bow])\n",
        "lsa_model = LsiModel(df['tfidf'], num_topics=10, id2word=dictionary)\n",
        "df['lsa'] = df['tfidf'].apply(lambda tfidf: lsa_model[tfidf])\n",
        "df['lsa']"
      ],
      "metadata": {
        "colab": {
          "base_uri": "https://localhost:8080/"
        },
        "id": "OJZKlKFbiGWF",
        "outputId": "d89944fa-b132-4de8-87ee-b6e1049157df"
      },
      "execution_count": 90,
      "outputs": [
        {
          "output_type": "execute_result",
          "data": {
            "text/plain": [
              "0        [(0, -0.0012701898724714038), (1, -0.075401833...\n",
              "1        [(0, -0.003939340878472768), (1, -0.0603660661...\n",
              "2        [(0, -0.0008274848985907174), (1, -0.008559378...\n",
              "3        [(0, -0.0015637816674852394), (1, -0.012035026...\n",
              "4        [(0, -0.00040069159463679093), (1, -0.01427069...\n",
              "                               ...                        \n",
              "19995    [(0, -0.002165816181091471), (1, -0.0754060495...\n",
              "19996    [(0, -0.0022641097781515456), (1, -0.039152162...\n",
              "19997    [(0, -0.0009337556819351766), (1, -0.015020401...\n",
              "19998    [(0, -7.837256925591064e-05), (1, -0.001856483...\n",
              "19999    [(0, -0.0009627099428497515), (1, -0.011771547...\n",
              "Name: lsa, Length: 20000, dtype: object"
            ]
          },
          "metadata": {},
          "execution_count": 90
        }
      ]
    },
    {
      "cell_type": "code",
      "source": [
        "# TODO: Print the 3 or 4 most significant words of each topic\n",
        "for topic_id, topic in lsa_model.show_topics(num_topics=10, num_words=4, formatted=False):\n",
        "  words = [f\"{word}: {weight:3f}\" for word, weight in topic]\n",
        "  topic_str = f\"({topic_id}, '{', '.join(words)}')\"\n",
        "  print(topic_str)"
      ],
      "metadata": {
        "colab": {
          "base_uri": "https://localhost:8080/"
        },
        "id": "lj6PRKY8izSv",
        "outputId": "34ccf7fe-a421-4395-9ed3-36140038f080"
      },
      "execution_count": 93,
      "outputs": [
        {
          "output_type": "stream",
          "name": "stdout",
          "text": [
            "(0, 'interview: -0.989375, michael: -0.057942, extend: -0.040646, andrew: -0.036966')\n",
            "(1, 'man: -0.464619, polic: -0.387231, charg: -0.320482, court: -0.158374')\n",
            "(2, 'man: 0.446545, charg: 0.312002, plan: -0.247651, new: -0.221970')\n",
            "(3, 'polic: 0.748608, charg: -0.227522, man: -0.216722, second: -0.156556')\n",
            "(4, 'second: -0.443306, 90: -0.401358, abc: -0.381869, news: -0.355473')\n",
            "(5, 'new: -0.825183, plan: 0.201826, council: 0.175209, win: -0.120344')\n",
            "(6, 'fire: 0.418807, crash: 0.314845, kill: 0.278791, die: 0.264707')\n",
            "(7, 'fire: -0.667833, crash: 0.279062, plan: 0.247439, die: 0.221490')\n",
            "(8, 'win: 0.424576, plan: -0.407191, court: 0.282243, new: -0.278825')\n",
            "(9, 'court: -0.492138, charg: 0.456234, win: 0.383215, face: -0.242787')\n"
          ]
        }
      ]
    },
    {
      "cell_type": "code",
      "source": [
        "# TODO: Compute LDA\n",
        "from gensim.models import LdaModel\n",
        "lda_model = LdaModel(df['tfidf'], num_topics=10, id2word=dictionary)\n",
        "df['lda'] = df['tfidf'].apply(lambda tfidf: lda_model[tfidf])\n",
        "df['lda']"
      ],
      "metadata": {
        "colab": {
          "base_uri": "https://localhost:8080/"
        },
        "id": "7RHSscmvjvKs",
        "outputId": "b92b5a77-23ac-4a3e-ef80-bd4faed1d65b"
      },
      "execution_count": 94,
      "outputs": [
        {
          "output_type": "execute_result",
          "data": {
            "text/plain": [
              "0        [(0, 0.033700395), (1, 0.033689767), (2, 0.033...\n",
              "1        [(0, 0.036861207), (1, 0.03686032), (2, 0.0368...\n",
              "2        [(0, 0.036841094), (1, 0.036840066), (2, 0.036...\n",
              "3        [(0, 0.041495584), (1, 0.041495416), (2, 0.041...\n",
              "4        [(0, 0.03353637), (1, 0.033541553), (2, 0.0335...\n",
              "                               ...                        \n",
              "19995    [(0, 0.03686706), (1, 0.03686004), (2, 0.40276...\n",
              "19996    [(0, 0.03406585), (1, 0.034067094), (2, 0.0340...\n",
              "19997    [(0, 0.033689167), (1, 0.03368751), (2, 0.0336...\n",
              "19998    [(0, 0.041483417), (1, 0.041483417), (2, 0.314...\n",
              "19999    [(0, 0.163276), (1, 0.031083573), (2, 0.289096...\n",
              "Name: lda, Length: 20000, dtype: object"
            ]
          },
          "metadata": {},
          "execution_count": 94
        }
      ]
    },
    {
      "cell_type": "code",
      "source": [
        "# TODO: print the most frequent words of each topic\n",
        "for topic_id, topic in lda_model.show_topics(num_topics=10, num_words=3, formatted=False):\n",
        "  words = [f\"{word}: {weight:3f}\" for word, weight in topic]\n",
        "  topic_str = f\"({topic_id}, '{', '.join(words)}')\"\n",
        "  print(topic_str)"
      ],
      "metadata": {
        "colab": {
          "base_uri": "https://localhost:8080/"
        },
        "id": "E6Om8ObjkIVX",
        "outputId": "4778042e-c3c4-441d-9424-8c4390eb5904"
      },
      "execution_count": 96,
      "outputs": [
        {
          "output_type": "stream",
          "name": "stdout",
          "text": [
            "(0, 'miss: 0.013972, search: 0.012032, review: 0.010947')\n",
            "(1, 'found: 0.011671, group: 0.010034, charg: 0.009669')\n",
            "(2, 'interview: 0.034346, abc: 0.017717, second: 0.017606')\n",
            "(3, 'crash: 0.013959, kill: 0.012886, assault: 0.009328')\n",
            "(4, 'injur: 0.009023, state: 0.008255, drought: 0.007442')\n",
            "(5, 'rate: 0.010518, council: 0.009309, final: 0.008765')\n",
            "(6, 'test: 0.013996, alleg: 0.008982, show: 0.008669')\n",
            "(7, 'coast: 0.011252, safeti: 0.010228, arrest: 0.008897')\n",
            "(8, 'face: 0.009685, accus: 0.008792, countri: 0.008545')\n",
            "(9, 'name: 0.010784, control: 0.007956, fire: 0.007886')\n"
          ]
        }
      ]
    },
    {
      "cell_type": "code",
      "source": [
        "#V. Named Entity Recognition \n",
        "\n",
        "# TODO: Load the dataset \n",
        "adafile = \"ada_lovelace.txt\""
      ],
      "metadata": {
        "id": "5bt2QG0HXkum"
      },
      "execution_count": 99,
      "outputs": []
    },
    {
      "cell_type": "code",
      "source": [
        "#Q1\n",
        "import spacy\n",
        "def identify_entities(filename):\n",
        "  nlp = spacy.load(\"en_core_web_sm\")\n",
        "  with open(filename, 'r') as file:\n",
        "    contents = file.read()\n",
        "    doc = nlp(contents)\n",
        "    for entity in doc.ents:\n",
        "      print(entity.text, entity.label_)\n",
        "identify_entities(adafile)"
      ],
      "metadata": {
        "colab": {
          "base_uri": "https://localhost:8080/"
        },
        "id": "FK-SXumClv7N",
        "outputId": "c3ebfbe6-2a88-464c-d622-b11340abe49c"
      },
      "execution_count": 100,
      "outputs": [
        {
          "output_type": "stream",
          "name": "stdout",
          "text": [
            "Augusta Ada King PERSON\n",
            "Countess PERSON\n",
            "Lovelace PERSON\n",
            "Byron ORG\n",
            "10 December 1815 DATE\n",
            "27 November 1852 DATE\n",
            "English LANGUAGE\n",
            "Charles Babbage's ORG\n",
            "the Analytical Engine ORG\n",
            "first ORDINAL\n",
            "first ORDINAL\n",
            "first ORDINAL\n",
            "one CARDINAL\n",
            "first ORDINAL\n",
            "Lovelace PERSON\n",
            "Mary Somerville PERSON\n",
            "Charles Babbage PERSON\n",
            "1833 DATE\n",
            "Somerville GPE\n",
            "many years DATE\n",
            "Andrew Crosse PERSON\n",
            "David Brewster PERSON\n",
            "Charles Wheatstone PERSON\n",
            "Michael Faraday PERSON\n",
            "Charles Dickens PERSON\n"
          ]
        }
      ]
    },
    {
      "cell_type": "code",
      "source": [
        "#Q2\n",
        "import spacy\n",
        "from spacy import displacy\n",
        "from IPython.display import display\n",
        "def visualize_entities(filename):\n",
        "  nlp = spacy.load(\"en_core_web_sm\")\n",
        "  with open(filename, 'r') as file:\n",
        "    contents = file.read()\n",
        "    doc = nlp(contents)\n",
        "    displacy.render(doc, style=\"ent\", jupyter=True)\n",
        "visualize_entities(adafile)"
      ],
      "metadata": {
        "colab": {
          "base_uri": "https://localhost:8080/",
          "height": 227
        },
        "id": "Tt8YPSDwmqfD",
        "outputId": "ab7d132b-25fd-4e27-e6ab-ac1972089864"
      },
      "execution_count": 101,
      "outputs": [
        {
          "output_type": "display_data",
          "data": {
            "text/plain": [
              "<IPython.core.display.HTML object>"
            ],
            "text/html": [
              "<span class=\"tex2jax_ignore\"><div class=\"entities\" style=\"line-height: 2.5; direction: ltr\">\n",
              "<mark class=\"entity\" style=\"background: #aa9cfc; padding: 0.45em 0.6em; margin: 0 0.25em; line-height: 1; border-radius: 0.35em;\">\n",
              "    Augusta Ada King\n",
              "    <span style=\"font-size: 0.8em; font-weight: bold; line-height: 1; border-radius: 0.35em; vertical-align: middle; margin-left: 0.5rem\">PERSON</span>\n",
              "</mark>\n",
              ", \n",
              "<mark class=\"entity\" style=\"background: #aa9cfc; padding: 0.45em 0.6em; margin: 0 0.25em; line-height: 1; border-radius: 0.35em;\">\n",
              "    Countess\n",
              "    <span style=\"font-size: 0.8em; font-weight: bold; line-height: 1; border-radius: 0.35em; vertical-align: middle; margin-left: 0.5rem\">PERSON</span>\n",
              "</mark>\n",
              " of \n",
              "<mark class=\"entity\" style=\"background: #aa9cfc; padding: 0.45em 0.6em; margin: 0 0.25em; line-height: 1; border-radius: 0.35em;\">\n",
              "    Lovelace\n",
              "    <span style=\"font-size: 0.8em; font-weight: bold; line-height: 1; border-radius: 0.35em; vertical-align: middle; margin-left: 0.5rem\">PERSON</span>\n",
              "</mark>\n",
              " (née \n",
              "<mark class=\"entity\" style=\"background: #7aecec; padding: 0.45em 0.6em; margin: 0 0.25em; line-height: 1; border-radius: 0.35em;\">\n",
              "    Byron\n",
              "    <span style=\"font-size: 0.8em; font-weight: bold; line-height: 1; border-radius: 0.35em; vertical-align: middle; margin-left: 0.5rem\">ORG</span>\n",
              "</mark>\n",
              "; \n",
              "<mark class=\"entity\" style=\"background: #bfe1d9; padding: 0.45em 0.6em; margin: 0 0.25em; line-height: 1; border-radius: 0.35em;\">\n",
              "    10 December 1815\n",
              "    <span style=\"font-size: 0.8em; font-weight: bold; line-height: 1; border-radius: 0.35em; vertical-align: middle; margin-left: 0.5rem\">DATE</span>\n",
              "</mark>\n",
              " – \n",
              "<mark class=\"entity\" style=\"background: #bfe1d9; padding: 0.45em 0.6em; margin: 0 0.25em; line-height: 1; border-radius: 0.35em;\">\n",
              "    27 November 1852\n",
              "    <span style=\"font-size: 0.8em; font-weight: bold; line-height: 1; border-radius: 0.35em; vertical-align: middle; margin-left: 0.5rem\">DATE</span>\n",
              "</mark>\n",
              ") was an \n",
              "<mark class=\"entity\" style=\"background: #ff8197; padding: 0.45em 0.6em; margin: 0 0.25em; line-height: 1; border-radius: 0.35em;\">\n",
              "    English\n",
              "    <span style=\"font-size: 0.8em; font-weight: bold; line-height: 1; border-radius: 0.35em; vertical-align: middle; margin-left: 0.5rem\">LANGUAGE</span>\n",
              "</mark>\n",
              " mathematician and writer, chiefly known for her work on \n",
              "<mark class=\"entity\" style=\"background: #7aecec; padding: 0.45em 0.6em; margin: 0 0.25em; line-height: 1; border-radius: 0.35em;\">\n",
              "    Charles Babbage's\n",
              "    <span style=\"font-size: 0.8em; font-weight: bold; line-height: 1; border-radius: 0.35em; vertical-align: middle; margin-left: 0.5rem\">ORG</span>\n",
              "</mark>\n",
              " proposed mechanical general-purpose computer, \n",
              "<mark class=\"entity\" style=\"background: #7aecec; padding: 0.45em 0.6em; margin: 0 0.25em; line-height: 1; border-radius: 0.35em;\">\n",
              "    the Analytical Engine\n",
              "    <span style=\"font-size: 0.8em; font-weight: bold; line-height: 1; border-radius: 0.35em; vertical-align: middle; margin-left: 0.5rem\">ORG</span>\n",
              "</mark>\n",
              ". She was the \n",
              "<mark class=\"entity\" style=\"background: #e4e7d2; padding: 0.45em 0.6em; margin: 0 0.25em; line-height: 1; border-radius: 0.35em;\">\n",
              "    first\n",
              "    <span style=\"font-size: 0.8em; font-weight: bold; line-height: 1; border-radius: 0.35em; vertical-align: middle; margin-left: 0.5rem\">ORDINAL</span>\n",
              "</mark>\n",
              " to recognise that the machine had applications beyond pure calculation, and published the \n",
              "<mark class=\"entity\" style=\"background: #e4e7d2; padding: 0.45em 0.6em; margin: 0 0.25em; line-height: 1; border-radius: 0.35em;\">\n",
              "    first\n",
              "    <span style=\"font-size: 0.8em; font-weight: bold; line-height: 1; border-radius: 0.35em; vertical-align: middle; margin-left: 0.5rem\">ORDINAL</span>\n",
              "</mark>\n",
              " algorithm intended to be carried out by such a machine. As a result, she is sometimes regarded as the \n",
              "<mark class=\"entity\" style=\"background: #e4e7d2; padding: 0.45em 0.6em; margin: 0 0.25em; line-height: 1; border-radius: 0.35em;\">\n",
              "    first\n",
              "    <span style=\"font-size: 0.8em; font-weight: bold; line-height: 1; border-radius: 0.35em; vertical-align: middle; margin-left: 0.5rem\">ORDINAL</span>\n",
              "</mark>\n",
              " to recognise the full potential of a &quot;computing machine&quot; and \n",
              "<mark class=\"entity\" style=\"background: #e4e7d2; padding: 0.45em 0.6em; margin: 0 0.25em; line-height: 1; border-radius: 0.35em;\">\n",
              "    one\n",
              "    <span style=\"font-size: 0.8em; font-weight: bold; line-height: 1; border-radius: 0.35em; vertical-align: middle; margin-left: 0.5rem\">CARDINAL</span>\n",
              "</mark>\n",
              " of the \n",
              "<mark class=\"entity\" style=\"background: #e4e7d2; padding: 0.45em 0.6em; margin: 0 0.25em; line-height: 1; border-radius: 0.35em;\">\n",
              "    first\n",
              "    <span style=\"font-size: 0.8em; font-weight: bold; line-height: 1; border-radius: 0.35em; vertical-align: middle; margin-left: 0.5rem\">ORDINAL</span>\n",
              "</mark>\n",
              " computer programmers. </br></br>\n",
              "<mark class=\"entity\" style=\"background: #aa9cfc; padding: 0.45em 0.6em; margin: 0 0.25em; line-height: 1; border-radius: 0.35em;\">\n",
              "    Lovelace\n",
              "    <span style=\"font-size: 0.8em; font-weight: bold; line-height: 1; border-radius: 0.35em; vertical-align: middle; margin-left: 0.5rem\">PERSON</span>\n",
              "</mark>\n",
              " became close friends with her tutor \n",
              "<mark class=\"entity\" style=\"background: #aa9cfc; padding: 0.45em 0.6em; margin: 0 0.25em; line-height: 1; border-radius: 0.35em;\">\n",
              "    Mary Somerville\n",
              "    <span style=\"font-size: 0.8em; font-weight: bold; line-height: 1; border-radius: 0.35em; vertical-align: middle; margin-left: 0.5rem\">PERSON</span>\n",
              "</mark>\n",
              ", who introduced her to \n",
              "<mark class=\"entity\" style=\"background: #aa9cfc; padding: 0.45em 0.6em; margin: 0 0.25em; line-height: 1; border-radius: 0.35em;\">\n",
              "    Charles Babbage\n",
              "    <span style=\"font-size: 0.8em; font-weight: bold; line-height: 1; border-radius: 0.35em; vertical-align: middle; margin-left: 0.5rem\">PERSON</span>\n",
              "</mark>\n",
              " in \n",
              "<mark class=\"entity\" style=\"background: #bfe1d9; padding: 0.45em 0.6em; margin: 0 0.25em; line-height: 1; border-radius: 0.35em;\">\n",
              "    1833\n",
              "    <span style=\"font-size: 0.8em; font-weight: bold; line-height: 1; border-radius: 0.35em; vertical-align: middle; margin-left: 0.5rem\">DATE</span>\n",
              "</mark>\n",
              ". She had a strong respect and affection for \n",
              "<mark class=\"entity\" style=\"background: #feca74; padding: 0.45em 0.6em; margin: 0 0.25em; line-height: 1; border-radius: 0.35em;\">\n",
              "    Somerville\n",
              "    <span style=\"font-size: 0.8em; font-weight: bold; line-height: 1; border-radius: 0.35em; vertical-align: middle; margin-left: 0.5rem\">GPE</span>\n",
              "</mark>\n",
              ", and they corresponded for \n",
              "<mark class=\"entity\" style=\"background: #bfe1d9; padding: 0.45em 0.6em; margin: 0 0.25em; line-height: 1; border-radius: 0.35em;\">\n",
              "    many years\n",
              "    <span style=\"font-size: 0.8em; font-weight: bold; line-height: 1; border-radius: 0.35em; vertical-align: middle; margin-left: 0.5rem\">DATE</span>\n",
              "</mark>\n",
              ". Other acquaintances included the scientists \n",
              "<mark class=\"entity\" style=\"background: #aa9cfc; padding: 0.45em 0.6em; margin: 0 0.25em; line-height: 1; border-radius: 0.35em;\">\n",
              "    Andrew Crosse\n",
              "    <span style=\"font-size: 0.8em; font-weight: bold; line-height: 1; border-radius: 0.35em; vertical-align: middle; margin-left: 0.5rem\">PERSON</span>\n",
              "</mark>\n",
              ", Sir \n",
              "<mark class=\"entity\" style=\"background: #aa9cfc; padding: 0.45em 0.6em; margin: 0 0.25em; line-height: 1; border-radius: 0.35em;\">\n",
              "    David Brewster\n",
              "    <span style=\"font-size: 0.8em; font-weight: bold; line-height: 1; border-radius: 0.35em; vertical-align: middle; margin-left: 0.5rem\">PERSON</span>\n",
              "</mark>\n",
              ", \n",
              "<mark class=\"entity\" style=\"background: #aa9cfc; padding: 0.45em 0.6em; margin: 0 0.25em; line-height: 1; border-radius: 0.35em;\">\n",
              "    Charles Wheatstone\n",
              "    <span style=\"font-size: 0.8em; font-weight: bold; line-height: 1; border-radius: 0.35em; vertical-align: middle; margin-left: 0.5rem\">PERSON</span>\n",
              "</mark>\n",
              ", \n",
              "<mark class=\"entity\" style=\"background: #aa9cfc; padding: 0.45em 0.6em; margin: 0 0.25em; line-height: 1; border-radius: 0.35em;\">\n",
              "    Michael Faraday\n",
              "    <span style=\"font-size: 0.8em; font-weight: bold; line-height: 1; border-radius: 0.35em; vertical-align: middle; margin-left: 0.5rem\">PERSON</span>\n",
              "</mark>\n",
              " and the author \n",
              "<mark class=\"entity\" style=\"background: #aa9cfc; padding: 0.45em 0.6em; margin: 0 0.25em; line-height: 1; border-radius: 0.35em;\">\n",
              "    Charles Dickens\n",
              "    <span style=\"font-size: 0.8em; font-weight: bold; line-height: 1; border-radius: 0.35em; vertical-align: middle; margin-left: 0.5rem\">PERSON</span>\n",
              "</mark>\n",
              ".</div></span>"
            ]
          },
          "metadata": {}
        }
      ]
    },
    {
      "cell_type": "code",
      "source": [
        "#Q3\n",
        "import spacy\n",
        "def replace_name_by_redacted(filename):\n",
        "  nlp = spacy.load(\"en_core_web_sm\")\n",
        "  with open(filename, 'r') as file:\n",
        "    contents = file.read()\n",
        "    doc = nlp(contents)\n",
        "    redacted_contents = contents\n",
        "    for entity in doc.ents:\n",
        "      if entity.label_ == \"PERSON\":\n",
        "        redacted_contents = redacted_contents.replace(entity.text, \"[REDACTED]\")\n",
        "      with open(filename, 'w') as file:\n",
        "        file.write(redacted_contents)\n",
        "replace_name_by_redacted(adafile)"
      ],
      "metadata": {
        "id": "WSbsYw8dnREI"
      },
      "execution_count": 102,
      "outputs": []
    },
    {
      "cell_type": "code",
      "source": [
        "#Q4\n",
        "import spacy\n",
        "def make_doc_GDPR_compliant(filename):\n",
        "  nlp = spacy.load(\"en_core_web_sm\")\n",
        "  with open(filename, 'r') as file:\n",
        "    contents = file.read()\n",
        "    doc = nlp(contents)\n",
        "    redacted_contents = contents\n",
        "    for entity in doc.ents:\n",
        "      if entity.label_ == \"PERSON\":\n",
        "        redacted_contents = redacted_contents.replace(entity.text, \"[REDACTED]\")\n",
        "      with open(filename, 'w') as file:\n",
        "        file.write(redacted_contents)\n",
        "make_doc_GDPR_compliant(adafile)"
      ],
      "metadata": {
        "id": "uwL-2GrHoHu2"
      },
      "execution_count": 103,
      "outputs": []
    },
    {
      "cell_type": "code",
      "source": [
        "#VI. Exercise "
      ],
      "metadata": {
        "id": "ASzs6OBkXl1h"
      },
      "execution_count": null,
      "outputs": []
    },
    {
      "cell_type": "code",
      "source": [
        "#Exercise1\n",
        "jobmarket = \"job-market.csv\"\n",
        "\n",
        "jobs_df = pd.read_csv(jobmarket)\n",
        "\n",
        "jobs_df.fillna(0)"
      ],
      "metadata": {
        "colab": {
          "base_uri": "https://localhost:8080/",
          "height": 658
        },
        "id": "4y5LCOZdob9R",
        "outputId": "2a7325fa-584c-426f-b288-335942fee7f6"
      },
      "execution_count": 105,
      "outputs": [
        {
          "output_type": "execute_result",
          "data": {
            "text/plain": [
              "               Id                                              Title  \\\n",
              "0      37404348.0                           Casual Stock Replenisher   \n",
              "1      37404337.0                           Casual Stock Replenisher   \n",
              "2      37404356.0  RETAIL SALES SUPERSTARS and STYLISTS Wanted - ...   \n",
              "3      37404330.0                              Team member - Belrose   \n",
              "4      37404308.0  Business Banking Contact Centre Specialist, Ni...   \n",
              "...           ...                                                ...   \n",
              "40784         0.0                                                  0   \n",
              "40785         0.0                                                  0   \n",
              "40786         0.0                                                  0   \n",
              "40787         0.0                                                  0   \n",
              "40788         0.0                                                  0   \n",
              "\n",
              "                                              Company  \\\n",
              "0                                         Aldi Stores   \n",
              "1                                         Aldi Stores   \n",
              "2                                 LB Creative Pty Ltd   \n",
              "3                              Anaconda Group Pty Ltd   \n",
              "4      Commonwealth Bank - Business & Private Banking   \n",
              "...                                               ...   \n",
              "40784                                               0   \n",
              "40785                                               0   \n",
              "40786                                               0   \n",
              "40787                                               0   \n",
              "40788                                               0   \n",
              "\n",
              "                           Date                 Location  \\\n",
              "0      2018-10-07T00:00:00.000Z                   Sydney   \n",
              "1      2018-10-07T00:00:00.000Z    Richmond & Hawkesbury   \n",
              "2      2018-10-07T00:00:00.000Z                 Brisbane   \n",
              "3      2018-10-07T00:00:00.000Z  Gosford & Central Coast   \n",
              "4      2018-10-07T00:00:00.000Z                   Sydney   \n",
              "...                         ...                      ...   \n",
              "40784                         0                        0   \n",
              "40785                         0                        0   \n",
              "40786                         0                        0   \n",
              "40787                         0                        0   \n",
              "40788                         0                        0   \n",
              "\n",
              "                              Area                  Classification  \\\n",
              "0      North West & Hills District      Retail & Consumer Products   \n",
              "1                                0      Retail & Consumer Products   \n",
              "2              CBD & Inner Suburbs      Retail & Consumer Products   \n",
              "3                                0      Retail & Consumer Products   \n",
              "4            Ryde & Macquarie Park  Call Centre & Customer Service   \n",
              "...                            ...                             ...   \n",
              "40784                            0                               0   \n",
              "40785                            0                               0   \n",
              "40786                            0                               0   \n",
              "40787                            0                               0   \n",
              "40788                            0                               0   \n",
              "\n",
              "       SubClassification                                        Requirement  \\\n",
              "0      Retail Assistants  Our Casual Stock Replenishers pride themselves...   \n",
              "1      Retail Assistants  Our Casual Stock Replenishers pride themselves...   \n",
              "2      Retail Assistants  BRAND NEW FLAGSHIP STORE OPENING - SUNSHINE PLAZA   \n",
              "3      Retail Assistants  Bring it on - do you love the great outdoors a...   \n",
              "4        Sales - Inbound  We are seeking highly articulate, enthusiastic...   \n",
              "...                  ...                                                ...   \n",
              "40784                  0                                                  0   \n",
              "40785                  0                                                  0   \n",
              "40786                  0                                                  0   \n",
              "40787                  0                                                  0   \n",
              "40788                  0                                                  0   \n",
              "\n",
              "      FullDescription  LowestSalary  HighestSalary JobType  \n",
              "0                   0           0.0           30.0       0  \n",
              "1                   0           0.0           30.0       0  \n",
              "2                   0           0.0           30.0       0  \n",
              "3                   0           0.0           30.0       0  \n",
              "4                   0           0.0           30.0       0  \n",
              "...               ...           ...            ...     ...  \n",
              "40784               0           0.0            0.0       0  \n",
              "40785               0           0.0            0.0       0  \n",
              "40786               0           0.0            0.0       0  \n",
              "40787               0           0.0            0.0       0  \n",
              "40788               0           0.0            0.0       0  \n",
              "\n",
              "[40789 rows x 13 columns]"
            ],
            "text/html": [
              "\n",
              "  <div id=\"df-2b7d9cff-df42-41eb-adb1-c8a0c1580a65\">\n",
              "    <div class=\"colab-df-container\">\n",
              "      <div>\n",
              "<style scoped>\n",
              "    .dataframe tbody tr th:only-of-type {\n",
              "        vertical-align: middle;\n",
              "    }\n",
              "\n",
              "    .dataframe tbody tr th {\n",
              "        vertical-align: top;\n",
              "    }\n",
              "\n",
              "    .dataframe thead th {\n",
              "        text-align: right;\n",
              "    }\n",
              "</style>\n",
              "<table border=\"1\" class=\"dataframe\">\n",
              "  <thead>\n",
              "    <tr style=\"text-align: right;\">\n",
              "      <th></th>\n",
              "      <th>Id</th>\n",
              "      <th>Title</th>\n",
              "      <th>Company</th>\n",
              "      <th>Date</th>\n",
              "      <th>Location</th>\n",
              "      <th>Area</th>\n",
              "      <th>Classification</th>\n",
              "      <th>SubClassification</th>\n",
              "      <th>Requirement</th>\n",
              "      <th>FullDescription</th>\n",
              "      <th>LowestSalary</th>\n",
              "      <th>HighestSalary</th>\n",
              "      <th>JobType</th>\n",
              "    </tr>\n",
              "  </thead>\n",
              "  <tbody>\n",
              "    <tr>\n",
              "      <th>0</th>\n",
              "      <td>37404348.0</td>\n",
              "      <td>Casual Stock Replenisher</td>\n",
              "      <td>Aldi Stores</td>\n",
              "      <td>2018-10-07T00:00:00.000Z</td>\n",
              "      <td>Sydney</td>\n",
              "      <td>North West &amp; Hills District</td>\n",
              "      <td>Retail &amp; Consumer Products</td>\n",
              "      <td>Retail Assistants</td>\n",
              "      <td>Our Casual Stock Replenishers pride themselves...</td>\n",
              "      <td>0</td>\n",
              "      <td>0.0</td>\n",
              "      <td>30.0</td>\n",
              "      <td>0</td>\n",
              "    </tr>\n",
              "    <tr>\n",
              "      <th>1</th>\n",
              "      <td>37404337.0</td>\n",
              "      <td>Casual Stock Replenisher</td>\n",
              "      <td>Aldi Stores</td>\n",
              "      <td>2018-10-07T00:00:00.000Z</td>\n",
              "      <td>Richmond &amp; Hawkesbury</td>\n",
              "      <td>0</td>\n",
              "      <td>Retail &amp; Consumer Products</td>\n",
              "      <td>Retail Assistants</td>\n",
              "      <td>Our Casual Stock Replenishers pride themselves...</td>\n",
              "      <td>0</td>\n",
              "      <td>0.0</td>\n",
              "      <td>30.0</td>\n",
              "      <td>0</td>\n",
              "    </tr>\n",
              "    <tr>\n",
              "      <th>2</th>\n",
              "      <td>37404356.0</td>\n",
              "      <td>RETAIL SALES SUPERSTARS and STYLISTS Wanted - ...</td>\n",
              "      <td>LB Creative Pty Ltd</td>\n",
              "      <td>2018-10-07T00:00:00.000Z</td>\n",
              "      <td>Brisbane</td>\n",
              "      <td>CBD &amp; Inner Suburbs</td>\n",
              "      <td>Retail &amp; Consumer Products</td>\n",
              "      <td>Retail Assistants</td>\n",
              "      <td>BRAND NEW FLAGSHIP STORE OPENING - SUNSHINE PLAZA</td>\n",
              "      <td>0</td>\n",
              "      <td>0.0</td>\n",
              "      <td>30.0</td>\n",
              "      <td>0</td>\n",
              "    </tr>\n",
              "    <tr>\n",
              "      <th>3</th>\n",
              "      <td>37404330.0</td>\n",
              "      <td>Team member - Belrose</td>\n",
              "      <td>Anaconda Group Pty Ltd</td>\n",
              "      <td>2018-10-07T00:00:00.000Z</td>\n",
              "      <td>Gosford &amp; Central Coast</td>\n",
              "      <td>0</td>\n",
              "      <td>Retail &amp; Consumer Products</td>\n",
              "      <td>Retail Assistants</td>\n",
              "      <td>Bring it on - do you love the great outdoors a...</td>\n",
              "      <td>0</td>\n",
              "      <td>0.0</td>\n",
              "      <td>30.0</td>\n",
              "      <td>0</td>\n",
              "    </tr>\n",
              "    <tr>\n",
              "      <th>4</th>\n",
              "      <td>37404308.0</td>\n",
              "      <td>Business Banking Contact Centre Specialist, Ni...</td>\n",
              "      <td>Commonwealth Bank - Business &amp; Private Banking</td>\n",
              "      <td>2018-10-07T00:00:00.000Z</td>\n",
              "      <td>Sydney</td>\n",
              "      <td>Ryde &amp; Macquarie Park</td>\n",
              "      <td>Call Centre &amp; Customer Service</td>\n",
              "      <td>Sales - Inbound</td>\n",
              "      <td>We are seeking highly articulate, enthusiastic...</td>\n",
              "      <td>0</td>\n",
              "      <td>0.0</td>\n",
              "      <td>30.0</td>\n",
              "      <td>0</td>\n",
              "    </tr>\n",
              "    <tr>\n",
              "      <th>...</th>\n",
              "      <td>...</td>\n",
              "      <td>...</td>\n",
              "      <td>...</td>\n",
              "      <td>...</td>\n",
              "      <td>...</td>\n",
              "      <td>...</td>\n",
              "      <td>...</td>\n",
              "      <td>...</td>\n",
              "      <td>...</td>\n",
              "      <td>...</td>\n",
              "      <td>...</td>\n",
              "      <td>...</td>\n",
              "      <td>...</td>\n",
              "    </tr>\n",
              "    <tr>\n",
              "      <th>40784</th>\n",
              "      <td>0.0</td>\n",
              "      <td>0</td>\n",
              "      <td>0</td>\n",
              "      <td>0</td>\n",
              "      <td>0</td>\n",
              "      <td>0</td>\n",
              "      <td>0</td>\n",
              "      <td>0</td>\n",
              "      <td>0</td>\n",
              "      <td>0</td>\n",
              "      <td>0.0</td>\n",
              "      <td>0.0</td>\n",
              "      <td>0</td>\n",
              "    </tr>\n",
              "    <tr>\n",
              "      <th>40785</th>\n",
              "      <td>0.0</td>\n",
              "      <td>0</td>\n",
              "      <td>0</td>\n",
              "      <td>0</td>\n",
              "      <td>0</td>\n",
              "      <td>0</td>\n",
              "      <td>0</td>\n",
              "      <td>0</td>\n",
              "      <td>0</td>\n",
              "      <td>0</td>\n",
              "      <td>0.0</td>\n",
              "      <td>0.0</td>\n",
              "      <td>0</td>\n",
              "    </tr>\n",
              "    <tr>\n",
              "      <th>40786</th>\n",
              "      <td>0.0</td>\n",
              "      <td>0</td>\n",
              "      <td>0</td>\n",
              "      <td>0</td>\n",
              "      <td>0</td>\n",
              "      <td>0</td>\n",
              "      <td>0</td>\n",
              "      <td>0</td>\n",
              "      <td>0</td>\n",
              "      <td>0</td>\n",
              "      <td>0.0</td>\n",
              "      <td>0.0</td>\n",
              "      <td>0</td>\n",
              "    </tr>\n",
              "    <tr>\n",
              "      <th>40787</th>\n",
              "      <td>0.0</td>\n",
              "      <td>0</td>\n",
              "      <td>0</td>\n",
              "      <td>0</td>\n",
              "      <td>0</td>\n",
              "      <td>0</td>\n",
              "      <td>0</td>\n",
              "      <td>0</td>\n",
              "      <td>0</td>\n",
              "      <td>0</td>\n",
              "      <td>0.0</td>\n",
              "      <td>0.0</td>\n",
              "      <td>0</td>\n",
              "    </tr>\n",
              "    <tr>\n",
              "      <th>40788</th>\n",
              "      <td>0.0</td>\n",
              "      <td>0</td>\n",
              "      <td>0</td>\n",
              "      <td>0</td>\n",
              "      <td>0</td>\n",
              "      <td>0</td>\n",
              "      <td>0</td>\n",
              "      <td>0</td>\n",
              "      <td>0</td>\n",
              "      <td>0</td>\n",
              "      <td>0.0</td>\n",
              "      <td>0.0</td>\n",
              "      <td>0</td>\n",
              "    </tr>\n",
              "  </tbody>\n",
              "</table>\n",
              "<p>40789 rows × 13 columns</p>\n",
              "</div>\n",
              "      <button class=\"colab-df-convert\" onclick=\"convertToInteractive('df-2b7d9cff-df42-41eb-adb1-c8a0c1580a65')\"\n",
              "              title=\"Convert this dataframe to an interactive table.\"\n",
              "              style=\"display:none;\">\n",
              "        \n",
              "  <svg xmlns=\"http://www.w3.org/2000/svg\" height=\"24px\"viewBox=\"0 0 24 24\"\n",
              "       width=\"24px\">\n",
              "    <path d=\"M0 0h24v24H0V0z\" fill=\"none\"/>\n",
              "    <path d=\"M18.56 5.44l.94 2.06.94-2.06 2.06-.94-2.06-.94-.94-2.06-.94 2.06-2.06.94zm-11 1L8.5 8.5l.94-2.06 2.06-.94-2.06-.94L8.5 2.5l-.94 2.06-2.06.94zm10 10l.94 2.06.94-2.06 2.06-.94-2.06-.94-.94-2.06-.94 2.06-2.06.94z\"/><path d=\"M17.41 7.96l-1.37-1.37c-.4-.4-.92-.59-1.43-.59-.52 0-1.04.2-1.43.59L10.3 9.45l-7.72 7.72c-.78.78-.78 2.05 0 2.83L4 21.41c.39.39.9.59 1.41.59.51 0 1.02-.2 1.41-.59l7.78-7.78 2.81-2.81c.8-.78.8-2.07 0-2.86zM5.41 20L4 18.59l7.72-7.72 1.47 1.35L5.41 20z\"/>\n",
              "  </svg>\n",
              "      </button>\n",
              "      \n",
              "  <style>\n",
              "    .colab-df-container {\n",
              "      display:flex;\n",
              "      flex-wrap:wrap;\n",
              "      gap: 12px;\n",
              "    }\n",
              "\n",
              "    .colab-df-convert {\n",
              "      background-color: #E8F0FE;\n",
              "      border: none;\n",
              "      border-radius: 50%;\n",
              "      cursor: pointer;\n",
              "      display: none;\n",
              "      fill: #1967D2;\n",
              "      height: 32px;\n",
              "      padding: 0 0 0 0;\n",
              "      width: 32px;\n",
              "    }\n",
              "\n",
              "    .colab-df-convert:hover {\n",
              "      background-color: #E2EBFA;\n",
              "      box-shadow: 0px 1px 2px rgba(60, 64, 67, 0.3), 0px 1px 3px 1px rgba(60, 64, 67, 0.15);\n",
              "      fill: #174EA6;\n",
              "    }\n",
              "\n",
              "    [theme=dark] .colab-df-convert {\n",
              "      background-color: #3B4455;\n",
              "      fill: #D2E3FC;\n",
              "    }\n",
              "\n",
              "    [theme=dark] .colab-df-convert:hover {\n",
              "      background-color: #434B5C;\n",
              "      box-shadow: 0px 1px 3px 1px rgba(0, 0, 0, 0.15);\n",
              "      filter: drop-shadow(0px 1px 2px rgba(0, 0, 0, 0.3));\n",
              "      fill: #FFFFFF;\n",
              "    }\n",
              "  </style>\n",
              "\n",
              "      <script>\n",
              "        const buttonEl =\n",
              "          document.querySelector('#df-2b7d9cff-df42-41eb-adb1-c8a0c1580a65 button.colab-df-convert');\n",
              "        buttonEl.style.display =\n",
              "          google.colab.kernel.accessAllowed ? 'block' : 'none';\n",
              "\n",
              "        async function convertToInteractive(key) {\n",
              "          const element = document.querySelector('#df-2b7d9cff-df42-41eb-adb1-c8a0c1580a65');\n",
              "          const dataTable =\n",
              "            await google.colab.kernel.invokeFunction('convertToInteractive',\n",
              "                                                     [key], {});\n",
              "          if (!dataTable) return;\n",
              "\n",
              "          const docLinkHtml = 'Like what you see? Visit the ' +\n",
              "            '<a target=\"_blank\" href=https://colab.research.google.com/notebooks/data_table.ipynb>data table notebook</a>'\n",
              "            + ' to learn more about interactive tables.';\n",
              "          element.innerHTML = '';\n",
              "          dataTable['output_type'] = 'display_data';\n",
              "          await google.colab.output.renderOutput(dataTable, element);\n",
              "          const docLink = document.createElement('div');\n",
              "          docLink.innerHTML = docLinkHtml;\n",
              "          element.appendChild(docLink);\n",
              "        }\n",
              "      </script>\n",
              "    </div>\n",
              "  </div>\n",
              "  "
            ]
          },
          "metadata": {},
          "execution_count": 105
        }
      ]
    }
  ]
}